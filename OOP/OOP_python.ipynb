{
 "cells": [
  {
   "cell_type": "markdown",
   "id": "cf8b29ea",
   "metadata": {},
   "source": [
    "# creat class and object "
   ]
  },
  {
   "cell_type": "code",
   "execution_count": 22,
   "id": "346665f6",
   "metadata": {},
   "outputs": [
    {
     "name": "stdout",
     "output_type": "stream",
     "text": [
      "Roll : 101, GPA :3.5\n"
     ]
    }
   ],
   "source": [
    "class student:\n",
    "    roll:\" \"\n",
    "    gpa:\" \"\n",
    "        \n",
    "rahim = student()\n",
    "rahim.roll =101\n",
    "rahim.gpa =3.50\n",
    "print(f\"Roll : {rahim.roll}, GPA :{rahim.gpa}\")"
   ]
  },
  {
   "cell_type": "markdown",
   "id": "9328d8ad",
   "metadata": {},
   "source": [
    "# creat class and Function/mathod"
   ]
  },
  {
   "cell_type": "code",
   "execution_count": 23,
   "id": "b6d4eef1",
   "metadata": {},
   "outputs": [
    {
     "name": "stdout",
     "output_type": "stream",
     "text": [
      "Roll : 101, GPA :3.5\n"
     ]
    }
   ],
   "source": [
    "class student:\n",
    "    roll:\" \"\n",
    "    gpa :\" \"\n",
    "           \n",
    "    def display(self):                          # # creat function \n",
    "        print(f\"Roll : {self.roll}, GPA :{self.gpa}\") \n",
    "        \n",
    "karim = student()\n",
    "karim.roll =101\n",
    "karim.gpa =3.50\n",
    "karim.display()"
   ]
  },
  {
   "cell_type": "code",
   "execution_count": 31,
   "id": "f94c21f1",
   "metadata": {},
   "outputs": [
    {
     "name": "stdout",
     "output_type": "stream",
     "text": [
      "Roll : 101, GPA :2.76\n"
     ]
    }
   ],
   "source": [
    "class student:\n",
    "    roll:\" \"\n",
    "    gpa :\" \"\n",
    "    \n",
    "    def set_value(self , roll , gpa):\n",
    "        self.roll = roll\n",
    "        self.gpa = gpa\n",
    "    \n",
    "    def display(self):                          # # creat function \n",
    "        print(f\"Roll : {self.roll}, GPA :{self.gpa}\") \n",
    "        \n",
    "karim = student()\n",
    "karim.set_value(101,2.76)\n",
    "karim.display()"
   ]
  },
  {
   "cell_type": "markdown",
   "id": "f47ee090",
   "metadata": {},
   "source": [
    "# Construcktor"
   ]
  },
  {
   "cell_type": "code",
   "execution_count": 32,
   "id": "20fe2468",
   "metadata": {},
   "outputs": [
    {
     "name": "stdout",
     "output_type": "stream",
     "text": [
      "Roll : 102, GPA :3.5\n"
     ]
    }
   ],
   "source": [
    "class student:\n",
    "    roll:\" \"\n",
    "    gpa :\" \"\n",
    "    \n",
    "    def __init__(self , roll , gpa):  # Costructor\n",
    "        self.roll = roll\n",
    "        self.gpa = gpa\n",
    "    \n",
    "    def display(self):                          # # creat function \n",
    "        print(f\"Roll : {self.roll}, GPA :{self.gpa}\") \n",
    "        \n",
    "karim = student(102, 3.5)\n",
    "karim.display()"
   ]
  },
  {
   "cell_type": "markdown",
   "id": "9ed63900",
   "metadata": {},
   "source": [
    "# Abstract Class"
   ]
  },
  {
   "cell_type": "code",
   "execution_count": 38,
   "id": "b55c9210",
   "metadata": {},
   "outputs": [
    {
     "ename": "SyntaxError",
     "evalue": "invalid syntax (Temp/ipykernel_6524/3335723343.py, line 4)",
     "output_type": "error",
     "traceback": [
      "\u001b[1;36m  File \u001b[1;32m\"C:\\Users\\SHUVOM~1\\AppData\\Local\\Temp/ipykernel_6524/3335723343.py\"\u001b[1;36m, line \u001b[1;32m4\u001b[0m\n\u001b[1;33m    def__init__(self,dim1,dim2):\u001b[0m\n\u001b[1;37m                                ^\u001b[0m\n\u001b[1;31mSyntaxError\u001b[0m\u001b[1;31m:\u001b[0m invalid syntax\n"
     ]
    }
   ],
   "source": [
    "from abc import ABC, abstractmethod\n",
    "\n",
    "class shape(ABC):\n",
    "    def__init__(self,dim1,dim2):\n",
    "        self.dim1 = dim1\n",
    "        self.dim2 = dim2\n",
    "        \n",
    "    @abstractmethod\n",
    "    def area (self) :\n",
    "        pass\n",
    "    \n",
    "class Triangle(Shape):\n",
    "    def area(self):\n",
    "        area = self.dim1 * self.dim2\n",
    "        print(\"Area of rectangle :\" , area)\n",
    "        \n",
    "class Rectangle(Shape):\n",
    "    def area(self):\n",
    "        area =self.dim1 *self.dim2\n",
    "        print(\"Area of Rectangle :\" , area)\n",
    "\n",
    "t1 = Triangle (20,30)\n",
    "t1.area()\n",
    "\n",
    "r1 = Rectangle(20,20)\n",
    "r1.area()\n"
   ]
  },
  {
   "cell_type": "code",
   "execution_count": null,
   "id": "6433310a",
   "metadata": {},
   "outputs": [],
   "source": [
    "f"
   ]
  }
 ],
 "metadata": {
  "kernelspec": {
   "display_name": "Python 3 (ipykernel)",
   "language": "python",
   "name": "python3"
  },
  "language_info": {
   "codemirror_mode": {
    "name": "ipython",
    "version": 3
   },
   "file_extension": ".py",
   "mimetype": "text/x-python",
   "name": "python",
   "nbconvert_exporter": "python",
   "pygments_lexer": "ipython3",
   "version": "3.8.12"
  }
 },
 "nbformat": 4,
 "nbformat_minor": 5
}
