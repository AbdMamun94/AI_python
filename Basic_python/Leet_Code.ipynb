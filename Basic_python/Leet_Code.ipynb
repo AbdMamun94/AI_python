{
 "cells": [
  {
   "cell_type": "code",
   "execution_count": 11,
   "id": "4ec8c8e3",
   "metadata": {},
   "outputs": [
    {
     "name": "stdout",
     "output_type": "stream",
     "text": [
      "(0, 1)\n"
     ]
    }
   ],
   "source": [
    "'''input = [2,7,10,15] , target =9\n",
    "\n",
    "     i[0]+i[1] = target '''\n",
    "\n",
    "\n",
    "\n",
    "\n",
    "x = [4,5,6,8]\n",
    "y = [9]\n",
    "\n",
    "def reverse_list(x,y):\n",
    "    \n",
    "    for i in range (len(x)):\n",
    "        for j in range (i+1,len(x)):\n",
    "            \n",
    "            if (x[i]+x[j]) == y[0]:\n",
    "                return(i,j)\n",
    "            \n",
    "print(reverse_list(x,y))\n"
   ]
  },
  {
   "cell_type": "code",
   "execution_count": null,
   "id": "2f325831",
   "metadata": {},
   "outputs": [],
   "source": []
  }
 ],
 "metadata": {
  "kernelspec": {
   "display_name": "Python 3 (ipykernel)",
   "language": "python",
   "name": "python3"
  },
  "language_info": {
   "codemirror_mode": {
    "name": "ipython",
    "version": 3
   },
   "file_extension": ".py",
   "mimetype": "text/x-python",
   "name": "python",
   "nbconvert_exporter": "python",
   "pygments_lexer": "ipython3",
   "version": "3.8.12"
  }
 },
 "nbformat": 4,
 "nbformat_minor": 5
}
