{
 "cells": [
  {
   "cell_type": "code",
   "execution_count": null,
   "id": "0eec65c6",
   "metadata": {},
   "outputs": [],
   "source": [
    "year = np.array(['2014', '2014', '2015', '2017'])\n",
    "month = np.array(['01', '01', '02', '03'])\n",
    "\n",
    "# Make empty lists to store temperature values and their month\n",
    "num_monthly = []\n",
    "\n",
    "# Loop over all unique years\n",
    "for year_now in np.unique(year):\n",
    "    # Loop over all unique months\n",
    "    for month_now in np.unique(month):\n",
    "        # NOTE: Here you should use an array slice to get tavg values only for month_now of year_now\n",
    "        #       I am just filling in the average of 10 random values for now, since I don't have tavg defined\n",
    "        num_m = np.random.rand(10).mean()\n",
    "\n",
    "        # Add the monthly average temperature to the temp_monthly list\n",
    "        num_monthly.append(num_m)\n",
    "\n",
    "# Finally, we can convert num_monthly to a NumPy array\n",
    "num_monthly = np.array(num_monthly)"
   ]
  }
 ],
 "metadata": {
  "kernelspec": {
   "display_name": "Python 3 (ipykernel)",
   "language": "python",
   "name": "python3"
  },
  "language_info": {
   "codemirror_mode": {
    "name": "ipython",
    "version": 3
   },
   "file_extension": ".py",
   "mimetype": "text/x-python",
   "name": "python",
   "nbconvert_exporter": "python",
   "pygments_lexer": "ipython3",
   "version": "3.8.12"
  }
 },
 "nbformat": 4,
 "nbformat_minor": 5
}
