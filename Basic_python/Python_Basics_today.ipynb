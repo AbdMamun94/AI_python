{
 "cells": [
  {
   "cell_type": "markdown",
   "id": "ced34f2e",
   "metadata": {},
   "source": [
    "# Print"
   ]
  },
  {
   "cell_type": "code",
   "execution_count": 2,
   "id": "a8b00746",
   "metadata": {},
   "outputs": [
    {
     "name": "stdout",
     "output_type": "stream",
     "text": [
      "Line A \n",
      " Line B\n"
     ]
    }
   ],
   "source": [
    "print(\"Line A \\n Line B\")"
   ]
  },
  {
   "cell_type": "code",
   "execution_count": 4,
   "id": "950844a0",
   "metadata": {},
   "outputs": [
    {
     "name": "stdout",
     "output_type": "stream",
     "text": [
      "hello Mamun your age is 26\n"
     ]
    }
   ],
   "source": [
    "name =\"Mamun\"\n",
    "age = 24\n",
    "print(f\"hello {name} your age is {age+2}\")"
   ]
  },
  {
   "cell_type": "code",
   "execution_count": 10,
   "id": "4441961e",
   "metadata": {
    "scrolled": true
   },
   "outputs": [
    {
     "name": "stdout",
     "output_type": "stream",
     "text": [
      "Enter three numbers Comma separated: 1,2,3\n",
      "avg of three number : 2.0\n"
     ]
    }
   ],
   "source": [
    "num1, num2, num3= input(\"Enter three numbers Comma separated: \").split(\",\")\n",
    "    \n",
    "print(f\"avg of three number : {(int(num1) + int(num2) +int(num3))/3}\")"
   ]
  },
  {
   "cell_type": "code",
   "execution_count": 39,
   "id": "0bae07c0",
   "metadata": {},
   "outputs": [
    {
     "data": {
      "text/plain": [
       "'Hello my name is Nitish and I am 30'"
      ]
     },
     "execution_count": 39,
     "metadata": {},
     "output_type": "execute_result"
    }
   ],
   "source": [
    "\"Hello my name is {} and I am {}\".format(\"Nitish\",30)"
   ]
  },
  {
   "cell_type": "markdown",
   "id": "9e22083e",
   "metadata": {},
   "source": [
    "# Stirng"
   ]
  },
  {
   "cell_type": "code",
   "execution_count": 12,
   "id": "10d41385",
   "metadata": {},
   "outputs": [
    {
     "name": "stdout",
     "output_type": "stream",
     "text": [
      "Hello World\n"
     ]
    }
   ],
   "source": [
    "c = \"Hello World\"\n",
    "\n",
    "print(c)"
   ]
  },
  {
   "cell_type": "code",
   "execution_count": 13,
   "id": "ec849c64",
   "metadata": {},
   "outputs": [
    {
     "name": "stdout",
     "output_type": "stream",
     "text": [
      "Hello\n"
     ]
    }
   ],
   "source": [
    "print(c[0:5])"
   ]
  },
  {
   "cell_type": "code",
   "execution_count": 14,
   "id": "950f6ede",
   "metadata": {},
   "outputs": [
    {
     "name": "stdout",
     "output_type": "stream",
     "text": [
      "llo World\n"
     ]
    }
   ],
   "source": [
    "print(c[2:])"
   ]
  },
  {
   "cell_type": "code",
   "execution_count": 15,
   "id": "2894ab0d",
   "metadata": {},
   "outputs": [
    {
     "name": "stdout",
     "output_type": "stream",
     "text": [
      "Hell\n"
     ]
    }
   ],
   "source": [
    "print(c[:4])"
   ]
  },
  {
   "cell_type": "code",
   "execution_count": 16,
   "id": "0e734f27",
   "metadata": {},
   "outputs": [
    {
     "name": "stdout",
     "output_type": "stream",
     "text": [
      "\n"
     ]
    }
   ],
   "source": [
    "print(c[0:6:-1])\n",
    "\n",
    "# cz positive time e kono negative hobe na"
   ]
  },
  {
   "cell_type": "code",
   "execution_count": 17,
   "id": "01719001",
   "metadata": {},
   "outputs": [
    {
     "name": "stdout",
     "output_type": "stream",
     "text": [
      "Wr\n"
     ]
    }
   ],
   "source": [
    "print(c[-5:-1:2])\n",
    "\n",
    "# Hello World\n",
    "\n",
    "# (-5 to -1 = worl)\n",
    "\n",
    "# -1=d -2=l -3=r -4=o -5=w -6= -7=0 -8=l -9=l -10=e -11=H\n",
    "\n",
    "# w,o,r,l"
   ]
  },
  {
   "cell_type": "code",
   "execution_count": 18,
   "id": "02f993cd",
   "metadata": {},
   "outputs": [
    {
     "name": "stdout",
     "output_type": "stream",
     "text": [
      "dlroW olleH\n"
     ]
    }
   ],
   "source": [
    "print(c[::-1])"
   ]
  },
  {
   "cell_type": "code",
   "execution_count": 19,
   "id": "33e5f815",
   "metadata": {},
   "outputs": [
    {
     "name": "stdout",
     "output_type": "stream",
     "text": [
      "dlro\n"
     ]
    }
   ],
   "source": [
    "print(c[-1:-5:-1])\n",
    "\n",
    "# -1=d -2=l -3=r -4=o -5=w \n",
    "# dlro "
   ]
  },
  {
   "cell_type": "code",
   "execution_count": 20,
   "id": "a7b2e3e4",
   "metadata": {},
   "outputs": [
    {
     "name": "stdout",
     "output_type": "stream",
     "text": [
      "h\n",
      "e\n",
      "l\n",
      "l\n",
      "o\n",
      " \n",
      "w\n",
      "o\n",
      "r\n",
      "l\n",
      "d\n"
     ]
    }
   ],
   "source": [
    "c = \"hello world\"\n",
    "for i in c:\n",
    "    print(i)"
   ]
  },
  {
   "cell_type": "code",
   "execution_count": 26,
   "id": "e5c44c48",
   "metadata": {},
   "outputs": [
    {
     "name": "stdout",
     "output_type": "stream",
     "text": [
      "d\n",
      "l\n",
      "r\n",
      "o\n",
      "w\n",
      " \n",
      "o\n",
      "l\n",
      "l\n",
      "e\n",
      "h\n"
     ]
    }
   ],
   "source": [
    "c = \"hello world\"\n",
    "for i in c[::-1]:\n",
    "    print(i)"
   ]
  },
  {
   "cell_type": "code",
   "execution_count": 27,
   "id": "ff1b7d3d",
   "metadata": {},
   "outputs": [
    {
     "data": {
      "text/plain": [
       "7"
      ]
     },
     "execution_count": 27,
     "metadata": {},
     "output_type": "execute_result"
    }
   ],
   "source": [
    "c = \"kolkata\"\n",
    "len(c)"
   ]
  },
  {
   "cell_type": "code",
   "execution_count": 28,
   "id": "dbf8343b",
   "metadata": {},
   "outputs": [
    {
     "data": {
      "text/plain": [
       "'It is raining today'"
      ]
     },
     "execution_count": 28,
     "metadata": {},
     "output_type": "execute_result"
    }
   ],
   "source": [
    "\"it is raining today\".capitalize()"
   ]
  },
  {
   "cell_type": "code",
   "execution_count": 29,
   "id": "8eb2bcf9",
   "metadata": {},
   "outputs": [
    {
     "data": {
      "text/plain": [
       "'It Is Raining Today'"
      ]
     },
     "execution_count": 29,
     "metadata": {},
     "output_type": "execute_result"
    }
   ],
   "source": [
    "\"it is raining today\".title()"
   ]
  },
  {
   "cell_type": "code",
   "execution_count": 30,
   "id": "ba2601f0",
   "metadata": {},
   "outputs": [
    {
     "data": {
      "text/plain": [
       "'kolkata'"
      ]
     },
     "execution_count": 30,
     "metadata": {},
     "output_type": "execute_result"
    }
   ],
   "source": [
    "c.upper().lower()"
   ]
  },
  {
   "cell_type": "code",
   "execution_count": 31,
   "id": "d80ab9e0",
   "metadata": {},
   "outputs": [
    {
     "data": {
      "text/plain": [
       "'kOlKaTa'"
      ]
     },
     "execution_count": 31,
     "metadata": {},
     "output_type": "execute_result"
    }
   ],
   "source": [
    "\"KoLkAtA\".swapcase()"
   ]
  },
  {
   "cell_type": "code",
   "execution_count": 32,
   "id": "a7c2944e",
   "metadata": {},
   "outputs": [
    {
     "data": {
      "text/plain": [
       "4"
      ]
     },
     "execution_count": 32,
     "metadata": {},
     "output_type": "execute_result"
    }
   ],
   "source": [
    "\"it is raining\".count(\"i\")"
   ]
  },
  {
   "cell_type": "code",
   "execution_count": 35,
   "id": "93ff47b8",
   "metadata": {},
   "outputs": [
    {
     "data": {
      "text/plain": [
       "1"
      ]
     },
     "execution_count": 35,
     "metadata": {},
     "output_type": "execute_result"
    }
   ],
   "source": [
    "\"it is raining\".find(\"t\")"
   ]
  },
  {
   "cell_type": "code",
   "execution_count": 36,
   "id": "340c9b0b",
   "metadata": {},
   "outputs": [
    {
     "data": {
      "text/plain": [
       "1"
      ]
     },
     "execution_count": 36,
     "metadata": {},
     "output_type": "execute_result"
    }
   ],
   "source": [
    "\"it is raining\".index(\"t\")"
   ]
  },
  {
   "cell_type": "code",
   "execution_count": 37,
   "id": "9b1706a7",
   "metadata": {},
   "outputs": [
    {
     "data": {
      "text/plain": [
       "'who-is-the-pm-of-india'"
      ]
     },
     "execution_count": 37,
     "metadata": {},
     "output_type": "execute_result"
    }
   ],
   "source": [
    "\"-\".join(['who', 'is', 'the', 'pm', 'of', 'india'])"
   ]
  },
  {
   "cell_type": "code",
   "execution_count": 38,
   "id": "fd905b01",
   "metadata": {},
   "outputs": [
    {
     "data": {
      "text/plain": [
       "'Hi my name is Amit'"
      ]
     },
     "execution_count": 38,
     "metadata": {},
     "output_type": "execute_result"
    }
   ],
   "source": [
    "\"Hi my name is Nitish\".replace(\"Nitish\",\"Amit\")"
   ]
  },
  {
   "cell_type": "code",
   "execution_count": 51,
   "id": "645c7dcf",
   "metadata": {},
   "outputs": [
    {
     "name": "stdout",
     "output_type": "stream",
     "text": [
      "Enter your name mamun\n",
      "Good Afternoon mamun\n"
     ]
    }
   ],
   "source": [
    "# Ex harry\n",
    "\n",
    "name = input(\"Enter your name \")\n",
    "\n",
    "print(\"Good Afternoon \" + name)"
   ]
  },
  {
   "cell_type": "code",
   "execution_count": 45,
   "id": "fb346f6f",
   "metadata": {},
   "outputs": [
    {
     "data": {
      "text/plain": [
       "'Good Afternoon Mamun'"
      ]
     },
     "execution_count": 45,
     "metadata": {},
     "output_type": "execute_result"
    }
   ],
   "source": [
    "\"Good Afternoon {}\".format(\"Mamun\")"
   ]
  },
  {
   "cell_type": "code",
   "execution_count": 58,
   "id": "3da15679",
   "metadata": {},
   "outputs": [
    {
     "name": "stdout",
     "output_type": "stream",
     "text": [
      "Enter Name \n",
      "Mamun\n",
      "Enter date \n",
      "12\n",
      " Dear < Name > , You are Selected \n",
      "            Date : < Date >  \n"
     ]
    }
   ],
   "source": [
    "# Exercise\n",
    "\n",
    "Letter = ''' Dear < Name > , You are Selected \n",
    "            Date : < Date >  '''\n",
    "            \n",
    "name = input(\"Enter Name \\n\")\n",
    "date = input(\"Enter date \\n\")\n",
    "letter = Letter.replace(\"< Name >\", name)\n",
    "date = date.replace(\"< Date >\", date)\n",
    "\n",
    "print(Letter)"
   ]
  },
  {
   "cell_type": "code",
   "execution_count": 61,
   "id": "2b752cc0",
   "metadata": {},
   "outputs": [
    {
     "name": "stdout",
     "output_type": "stream",
     "text": [
      "Enter Sentencei am mamun\n",
      "-1\n"
     ]
    }
   ],
   "source": [
    "# Exercise \n",
    "\n",
    "name = input(\"Enter Sentence \")\n",
    "    \n",
    "DoubleSpace_detect = name.find(\"  \")\n",
    "\n",
    "print(DoubleSpace_detect)"
   ]
  },
  {
   "cell_type": "code",
   "execution_count": 68,
   "id": "0baf71f9",
   "metadata": {},
   "outputs": [
    {
     "name": "stdout",
     "output_type": "stream",
     "text": [
      "Enter Sentence-I am-Mamun\n",
      "I am Mamun\n"
     ]
    }
   ],
   "source": [
    "# Exercise \n",
    "\n",
    "name = input(\"Enter Sentence-\")\n",
    "    \n",
    "#DoubleSpace_detect = name.find(\"-\")\n",
    "replace = name.replace(\"-\",\" \")\n",
    "\n",
    "\n",
    "print(replace)"
   ]
  },
  {
   "cell_type": "code",
   "execution_count": 87,
   "id": "f4bb31cb",
   "metadata": {},
   "outputs": [
    {
     "name": "stdout",
     "output_type": "stream",
     "text": [
      "Enter name :Abcde\n",
      "reverse of the name is edcbA\n"
     ]
    }
   ],
   "source": [
    "Name = input(\"Enter name :\")\n",
    "\n",
    "reverse = Name[-1::-1]\n",
    "print(f\"reverse of the name is {reverse}\")"
   ]
  },
  {
   "cell_type": "code",
   "execution_count": 73,
   "id": "5c9937fe",
   "metadata": {},
   "outputs": [
    {
     "name": "stdout",
     "output_type": "stream",
     "text": [
      "L\n"
     ]
    }
   ],
   "source": [
    "print(\"HIMEL\"[-1::])"
   ]
  },
  {
   "cell_type": "code",
   "execution_count": 74,
   "id": "fddead31",
   "metadata": {},
   "outputs": [
    {
     "name": "stdout",
     "output_type": "stream",
     "text": [
      "LEMIH\n"
     ]
    }
   ],
   "source": [
    "print(\"HIMEL\"[-1::-1])"
   ]
  },
  {
   "cell_type": "code",
   "execution_count": 101,
   "id": "4533d3a8",
   "metadata": {},
   "outputs": [
    {
     "name": "stdout",
     "output_type": "stream",
     "text": [
      "L\n"
     ]
    }
   ],
   "source": [
    "print(\"HIMEL\"[-1::])"
   ]
  },
  {
   "cell_type": "code",
   "execution_count": 113,
   "id": "4b8ef5d1",
   "metadata": {},
   "outputs": [
    {
     "name": "stdout",
     "output_type": "stream",
     "text": [
      "Enter User name:shuvo\n",
      "5\n",
      "Enter one charecter for Count :o\n",
      "1\n"
     ]
    }
   ],
   "source": [
    "# Exercise Harsha\n",
    "\n",
    "Input = input(\"Enter User name:\")\n",
    "\n",
    "#print(length =len(Input))\n",
    "\n",
    "length =len(Input)\n",
    "print(length)\n",
    "\n",
    "Again_input_character = input(\"Enter one charecter for Count :\")\n",
    "\n",
    "print(Input.count (Again_input_character))  #Ekhane vuleo \" \" eta dewa jabe na."
   ]
  },
  {
   "cell_type": "code",
   "execution_count": 115,
   "id": "51fb8dd2",
   "metadata": {},
   "outputs": [
    {
     "name": "stdout",
     "output_type": "stream",
     "text": [
      "Enter User name:SHUVO\n",
      "5\n",
      "Enter one charecter for Count :s\n",
      "1\n"
     ]
    }
   ],
   "source": [
    "Input = input(\"Enter User name:\")\n",
    "\n",
    "length =len(Input)\n",
    "print(length)\n",
    "\n",
    "Again_input_character = input(\"Enter one charecter for Count :\")\n",
    "\n",
    "#print(Input.count (Again_input_character))  \n",
    "\n",
    "print(Input.lower().count(Again_input_character.lower()))     # case Sensetive thats why sob low kore nichi \n"
   ]
  },
  {
   "cell_type": "code",
   "execution_count": 124,
   "id": "0b9db915",
   "metadata": {},
   "outputs": [
    {
     "name": "stdout",
     "output_type": "stream",
     "text": [
      "5\n"
     ]
    }
   ],
   "source": [
    "Text = \"this is a good so is this your\"\n",
    "\n",
    "is_pos1 = Text.find(\"is\")\n",
    "is_pos2 = Text.find(\"is\", is_pos1+1)\n",
    "\n",
    "print(is_pos2)"
   ]
  },
  {
   "cell_type": "code",
   "execution_count": null,
   "id": "c0588983",
   "metadata": {},
   "outputs": [],
   "source": []
  },
  {
   "cell_type": "code",
   "execution_count": null,
   "id": "9f942ac9",
   "metadata": {},
   "outputs": [],
   "source": []
  }
 ],
 "metadata": {
  "kernelspec": {
   "display_name": "Python 3 (ipykernel)",
   "language": "python",
   "name": "python3"
  },
  "language_info": {
   "codemirror_mode": {
    "name": "ipython",
    "version": 3
   },
   "file_extension": ".py",
   "mimetype": "text/x-python",
   "name": "python",
   "nbconvert_exporter": "python",
   "pygments_lexer": "ipython3",
   "version": "3.8.12"
  }
 },
 "nbformat": 4,
 "nbformat_minor": 5
}
