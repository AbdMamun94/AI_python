{
 "cells": [
  {
   "cell_type": "markdown",
   "id": "071be8ef",
   "metadata": {},
   "source": [
    "# While Loop"
   ]
  },
  {
   "cell_type": "code",
   "execution_count": 1,
   "id": "31513664",
   "metadata": {},
   "outputs": [
    {
     "name": "stdout",
     "output_type": "stream",
     "text": [
      "Mamun\n",
      "Mamun\n",
      "Mamun\n",
      "Mamun\n",
      "Mamun\n",
      "Mamun\n",
      "Mamun\n",
      "Mamun\n",
      "Mamun\n",
      "Mamun\n"
     ]
    }
   ],
   "source": [
    "i = 1                 # initial value\n",
    "while i<=10:            # condition\n",
    "    print(\"Mamun\")         # print\n",
    "    i=i+1                     # Iteration"
   ]
  },
  {
   "cell_type": "code",
   "execution_count": 2,
   "id": "fa5db140",
   "metadata": {},
   "outputs": [
    {
     "name": "stdout",
     "output_type": "stream",
     "text": [
      "55\n"
     ]
    }
   ],
   "source": [
    "total = 0\n",
    "\n",
    "i = 1                      # 1,2,3,4,5,6,7,8,9,10  ... 1 theke suru hobe tai i=1\n",
    "while i<=10:               # 1 <=10 ,2 <=10 ,3 <=10 ,4 ,5 ,6,7,8,9 , 10 <=10\n",
    "    total = total +i       # 0+1=1, 1+2=3, 3+3=6 ,  6+4=10 , 10+5=15, 15+6=21 , 21+7=28 , 28+8=36 , 36+9=45 ,45+10=55\n",
    "    i=i+1                  # 2,3,4,5,6,7,8,9,10\n",
    "print(total)"
   ]
  },
  {
   "cell_type": "code",
   "execution_count": 3,
   "id": "e4fb6282",
   "metadata": {},
   "outputs": [
    {
     "name": "stdout",
     "output_type": "stream",
     "text": [
      "Input natural num :10\n",
      "55\n"
     ]
    }
   ],
   "source": [
    "# While Loop Exercise :-\n",
    "\n",
    "n =int(input(\"Input natural num :\"))\n",
    "total = 0\n",
    "\n",
    "i=1\n",
    "while i<=n:\n",
    "    total=total+i\n",
    "    i=i+1\n",
    "    \n",
    "print(total)"
   ]
  },
  {
   "cell_type": "code",
   "execution_count": 7,
   "id": "4e573923",
   "metadata": {},
   "outputs": [
    {
     "name": "stdout",
     "output_type": "stream",
     "text": [
      "User Input :1234\n",
      "10\n"
     ]
    }
   ],
   "source": [
    "# While Loop Exercise(2):\n",
    "\n",
    "# input sum = 1234 = 1+2+3+4 = 10\n",
    "\n",
    "n = input(\"User Input :\")     # 1234\n",
    "\n",
    "total=0\n",
    "i=0\n",
    "\n",
    "while i<len(n):                # i<=3 => 0-index <= 3 , 1-index <= 3 \n",
    "    total=total+int(n[i])      # 0+0 -> 0+1=1 -> \n",
    "    i=i+1\n",
    "    \n",
    "print(total)"
   ]
  },
  {
   "cell_type": "code",
   "execution_count": 19,
   "id": "d93ec460",
   "metadata": {},
   "outputs": [
    {
     "name": "stdout",
     "output_type": "stream",
     "text": [
      "Please Enter your name :shuvo\n",
      "s : 1\n",
      "h : 1\n",
      "u : 1\n",
      "v : 1\n",
      "o : 1\n"
     ]
    }
   ],
   "source": [
    "# Exercise (3):\n",
    "\n",
    "name = input(\"Please Enter your name :\")\n",
    "\n",
    "temp_var = \"\"\n",
    "i=0\n",
    "while i<len(name):\n",
    "    if name[i] not in temp_var:\n",
    "        temp_var =temp_var + name[i]\n",
    "        print(f\"{name[i]} : {name.count(name[i])}\")\n",
    "    i =i+1"
   ]
  },
  {
   "cell_type": "markdown",
   "id": "7d8a8c1b",
   "metadata": {},
   "source": [
    "# For Loop"
   ]
  },
  {
   "cell_type": "code",
   "execution_count": 9,
   "id": "26aa5eb9",
   "metadata": {},
   "outputs": [
    {
     "name": "stdout",
     "output_type": "stream",
     "text": [
      "Mamun\n",
      "Mamun\n",
      "Mamun\n",
      "Mamun\n",
      "Mamun\n",
      "Mamun\n",
      "Mamun\n",
      "Mamun\n",
      "Mamun\n",
      "Mamun\n"
     ]
    }
   ],
   "source": [
    "# i = variable\n",
    "\n",
    "for i in range(10):\n",
    "    print(\"Mamun\")"
   ]
  },
  {
   "cell_type": "code",
   "execution_count": 15,
   "id": "2b96cfdf",
   "metadata": {},
   "outputs": [
    {
     "name": "stdout",
     "output_type": "stream",
     "text": [
      "Enter the Number :6\n",
      "21\n"
     ]
    }
   ],
   "source": [
    "n = int(input(\"Enter the Number :\")) \n",
    "\n",
    "total = 0\n",
    "\n",
    "for i in range(1,n+1):\n",
    "    total = total+i\n",
    "print(total)"
   ]
  },
  {
   "cell_type": "code",
   "execution_count": 14,
   "id": "fe43bc9d",
   "metadata": {},
   "outputs": [
    {
     "name": "stdout",
     "output_type": "stream",
     "text": [
      "55\n"
     ]
    }
   ],
   "source": [
    "total = 0\n",
    "\n",
    "for i in range(1,11):\n",
    "    total = total+i\n",
    "print(total)"
   ]
  },
  {
   "cell_type": "code",
   "execution_count": 18,
   "id": "ba91e0f0",
   "metadata": {},
   "outputs": [
    {
     "name": "stdout",
     "output_type": "stream",
     "text": [
      "Enter digits :5555\n",
      "20\n"
     ]
    }
   ],
   "source": [
    "# Ex - Sum of the digits => 1,2,3,4 = 1+2+3+4\n",
    "\n",
    "n = input(\"Enter digits :\") # 1234\n",
    "\n",
    "total = 0\n",
    "\n",
    "for i in range(len(n)):\n",
    "    total = total + int(n[i])\n",
    "    \n",
    "print(total)\n"
   ]
  },
  {
   "cell_type": "code",
   "execution_count": 42,
   "id": "0eaeb8e0",
   "metadata": {},
   "outputs": [
    {
     "name": "stdout",
     "output_type": "stream",
     "text": [
      "Enter a num :123\n",
      "6\n"
     ]
    }
   ],
   "source": [
    "num = input(\"Enter a num :\")\n",
    "\n",
    "total = 0\n",
    "\n",
    "for i in num:\n",
    "    total += int(i)\n",
    "print(total)"
   ]
  },
  {
   "cell_type": "code",
   "execution_count": 27,
   "id": "d32f0096",
   "metadata": {},
   "outputs": [
    {
     "name": "stdout",
     "output_type": "stream",
     "text": [
      "Enter your name :mamun\n",
      "m : 2\n",
      "a : 1\n",
      "u : 1\n",
      "n : 1\n"
     ]
    }
   ],
   "source": [
    "# Ex -3 : Charecter Counting.\n",
    "\n",
    "n = input(\"Enter your name :\")  # shuvo\n",
    "\n",
    "temp = \"\"\n",
    "\n",
    "for i in range(len(n)):\n",
    "    if n[i] not in temp:\n",
    "        print(f\"{n[i]} : {n.count(n[i])}\")\n",
    "        temp = temp + n[i]\n",
    "    "
   ]
  },
  {
   "cell_type": "markdown",
   "id": "604f675e",
   "metadata": {},
   "source": [
    "# break"
   ]
  },
  {
   "cell_type": "code",
   "execution_count": 28,
   "id": "8513a071",
   "metadata": {},
   "outputs": [
    {
     "name": "stdout",
     "output_type": "stream",
     "text": [
      "1\n",
      "2\n",
      "3\n",
      "4\n"
     ]
    }
   ],
   "source": [
    "for i in range (1,11):\n",
    "    if i==5:\n",
    "        break\n",
    "    print(i)"
   ]
  },
  {
   "cell_type": "markdown",
   "id": "aa699dec",
   "metadata": {},
   "source": [
    "# Continue"
   ]
  },
  {
   "cell_type": "code",
   "execution_count": 29,
   "id": "10b73903",
   "metadata": {},
   "outputs": [
    {
     "name": "stdout",
     "output_type": "stream",
     "text": [
      "1\n",
      "2\n",
      "3\n",
      "4\n",
      "6\n",
      "7\n",
      "8\n",
      "9\n",
      "10\n"
     ]
    }
   ],
   "source": [
    "for i in range (1,11):\n",
    "    if i==5:\n",
    "        continue\n",
    "    print(i)"
   ]
  },
  {
   "cell_type": "markdown",
   "id": "b574c5ae",
   "metadata": {},
   "source": [
    "# Guessing game"
   ]
  },
  {
   "cell_type": "code",
   "execution_count": 35,
   "id": "7252d2e9",
   "metadata": {},
   "outputs": [
    {
     "name": "stdout",
     "output_type": "stream",
     "text": [
      "guess a number between 1 to 100 :78\n",
      "too high\n",
      "guess again 1 to 100 :89\n",
      "too high\n",
      "guess again 1 to 100 :3\n",
      "too low\n",
      "guess again 1 to 100 :9\n",
      "you win , and gussing attempt is 4 times \n"
     ]
    }
   ],
   "source": [
    "win_num = 9\n",
    "\n",
    "guess = 1\n",
    "\n",
    "num = int(input(\"guess a number between 1 to 100 :\"))\n",
    "\n",
    "game_over = False         # cz game start jokhon kori tokhon gameover hoy na. game over hoy pore.\n",
    "\n",
    "while not game_over:\n",
    "    if num == win_num:\n",
    "        print(f\"you win , and gussing attempt is {guess} times \")\n",
    "        game_over = True\n",
    "        \n",
    "    else:\n",
    "        if num < win_num:\n",
    "            print(\"too low\")\n",
    "            guess = guess +1\n",
    "            num = int(input(\"guess again 1 to 100 :\"))\n",
    "            \n",
    "        else:\n",
    "            print(\"too high\")\n",
    "            guess = guess +1\n",
    "            num = int(input(\"guess again 1 to 100 :\"))"
   ]
  },
  {
   "cell_type": "code",
   "execution_count": 36,
   "id": "a24ca9d1",
   "metadata": {},
   "outputs": [
    {
     "name": "stdout",
     "output_type": "stream",
     "text": [
      "guess num 1 to 100 :8\n",
      "too low \n",
      "guess again :87\n",
      "too high\n",
      "guess again :4\n",
      "too low \n",
      "guess again :43\n",
      "you win, and you guess this num in 4 times\n"
     ]
    }
   ],
   "source": [
    "w_n = 43\n",
    "guess = 1\n",
    "num = int(input(\"guess num 1 to 100 :\"))\n",
    "game_over = False\n",
    "\n",
    "while not game_over:\n",
    "    if num == w_n:\n",
    "        print(f\"you win, and you guess this num in {guess} times\")\n",
    "        game_over = True\n",
    "        \n",
    "    else:\n",
    "        if num < w_n:\n",
    "            print(\"too low \")\n",
    "            \n",
    "        else :\n",
    "            print(\"too high\")\n",
    "            \n",
    "        guess +=1\n",
    "        num = int(input(\"guess again :\"))\n",
    "        "
   ]
  },
  {
   "cell_type": "code",
   "execution_count": 37,
   "id": "ce9c2b87",
   "metadata": {},
   "outputs": [
    {
     "name": "stdout",
     "output_type": "stream",
     "text": [
      "guess num 1 to 100 :89\n",
      "too high\n",
      "guess num 1 to 100 :7\n",
      "too low \n",
      "guess num 1 to 100 :43\n",
      "you win, and you guess this num in 3 times\n"
     ]
    }
   ],
   "source": [
    "w_n = 43\n",
    "guess = 1\n",
    "game_over = False\n",
    "\n",
    "while True:\n",
    "    num = int(input(\"guess num 1 to 100 :\"))\n",
    "    if num == w_n:\n",
    "        print(f\"you win, and you guess this num in {guess} times\")\n",
    "        break\n",
    "        \n",
    "    else:\n",
    "        if num < w_n:\n",
    "            print(\"too low \")\n",
    "            \n",
    "        else :\n",
    "            print(\"too high\")\n",
    "            \n",
    "        guess +=1\n",
    "        continue\n",
    "        "
   ]
  },
  {
   "cell_type": "code",
   "execution_count": 38,
   "id": "e16cba22",
   "metadata": {},
   "outputs": [
    {
     "name": "stdout",
     "output_type": "stream",
     "text": [
      "guess num 1 to 100 :67\n",
      "too low \n",
      "guess num 1 to 100 :78\n",
      "too low \n",
      "guess num 1 to 100 :87\n",
      "too low \n",
      "guess num 1 to 100 :88\n",
      "you win, and you guess this num in 4 times\n"
     ]
    }
   ],
   "source": [
    "# With random Number\n",
    "\n",
    "import random\n",
    "w_n = random.randint(1,100)\n",
    "guess = 1\n",
    "game_over = False\n",
    "\n",
    "while True:\n",
    "    num = int(input(\"guess num 1 to 100 :\"))\n",
    "    if num == w_n:\n",
    "        print(f\"you win, and you guess this num in {guess} times\")\n",
    "        break\n",
    "        \n",
    "    else:\n",
    "        if num < w_n:\n",
    "            print(\"too low \")\n",
    "            \n",
    "        else :\n",
    "            print(\"too high\")\n",
    "            \n",
    "        guess +=1\n",
    "        continue\n",
    "        "
   ]
  },
  {
   "cell_type": "code",
   "execution_count": null,
   "id": "09d2e82c",
   "metadata": {},
   "outputs": [],
   "source": []
  }
 ],
 "metadata": {
  "kernelspec": {
   "display_name": "Python 3 (ipykernel)",
   "language": "python",
   "name": "python3"
  },
  "language_info": {
   "codemirror_mode": {
    "name": "ipython",
    "version": 3
   },
   "file_extension": ".py",
   "mimetype": "text/x-python",
   "name": "python",
   "nbconvert_exporter": "python",
   "pygments_lexer": "ipython3",
   "version": "3.8.12"
  }
 },
 "nbformat": 4,
 "nbformat_minor": 5
}
