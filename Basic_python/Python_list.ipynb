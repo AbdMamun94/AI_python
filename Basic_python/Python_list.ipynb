{
 "cells": [
  {
   "cell_type": "code",
   "execution_count": 16,
   "id": "afe085db",
   "metadata": {},
   "outputs": [
    {
     "name": "stdout",
     "output_type": "stream",
     "text": [
      "['a', 'good', 5, 10, 97.5, None]\n"
     ]
    }
   ],
   "source": [
    "mixed = ['a','good', 5, 10, 97.5, None]\n",
    "print(mixed)"
   ]
  },
  {
   "cell_type": "code",
   "execution_count": 22,
   "id": "09726d7c",
   "metadata": {},
   "outputs": [
    {
     "name": "stdout",
     "output_type": "stream",
     "text": [
      "['a', 'two', 5, 10, 97.5, None]\n"
     ]
    }
   ],
   "source": [
    "mixed = ['a','good', 5, 10, 97.5, None]\n",
    "\n",
    "mixed[1]='two'\n",
    "\n",
    "print(mixed)"
   ]
  },
  {
   "cell_type": "code",
   "execution_count": 25,
   "id": "18022b9e",
   "metadata": {},
   "outputs": [
    {
     "name": "stdout",
     "output_type": "stream",
     "text": [
      "['a', 'a', 'b']\n"
     ]
    }
   ],
   "source": [
    "#mixed = ['a','good', 5, 10, 97.5, None]\n",
    "\n",
    "mixed[1:]=['a','b']\n",
    "\n",
    "# position 1 er porer sob gula Change hobe.\n",
    "print(mixed)"
   ]
  },
  {
   "cell_type": "markdown",
   "id": "d645b9f4",
   "metadata": {},
   "source": [
    "# Append , Insert and Extend"
   ]
  },
  {
   "cell_type": "code",
   "execution_count": 2,
   "id": "57d0d7de",
   "metadata": {},
   "outputs": [
    {
     "name": "stdout",
     "output_type": "stream",
     "text": [
      "['a', 'b', 'c']\n"
     ]
    }
   ],
   "source": [
    "word =['a','b']\n",
    "word.append('c') \n",
    "\n",
    "# eksathe dui ta item  \n",
    "\n",
    "print(word)"
   ]
  },
  {
   "cell_type": "code",
   "execution_count": 4,
   "id": "cc5b55ba",
   "metadata": {},
   "outputs": [
    {
     "name": "stdout",
     "output_type": "stream",
     "text": [
      "['a', 'b']\n"
     ]
    }
   ],
   "source": [
    "# Store value in list\n",
    "\n",
    "word = []\n",
    "word.append(\"a\")\n",
    "word.append(\"b\")\n",
    "\n",
    "print(word)"
   ]
  },
  {
   "cell_type": "code",
   "execution_count": 5,
   "id": "c4843de3",
   "metadata": {},
   "outputs": [
    {
     "name": "stdout",
     "output_type": "stream",
     "text": [
      "['Good', 'a', 'b']\n"
     ]
    }
   ],
   "source": [
    "# Add list in NEW element with Select The Place.\n",
    "\n",
    "word =['a','b']\n",
    "word.insert(0,\"Good\")\n",
    "\n",
    "# in this way we can add our value in our list and select our needed place.\n",
    "\n",
    "print(word)"
   ]
  },
  {
   "cell_type": "code",
   "execution_count": 6,
   "id": "e58af24c",
   "metadata": {},
   "outputs": [
    {
     "name": "stdout",
     "output_type": "stream",
     "text": [
      "['a', 'b', 'c', 'd']\n"
     ]
    }
   ],
   "source": [
    "# Add two list\n",
    "\n",
    "word1 =['a','b']\n",
    "word2 =['c','d']\n",
    "\n",
    "words = word1 + word2\n",
    "\n",
    "print(words)"
   ]
  },
  {
   "cell_type": "code",
   "execution_count": 7,
   "id": "9c91d6b4",
   "metadata": {},
   "outputs": [
    {
     "name": "stdout",
     "output_type": "stream",
     "text": [
      "['a', 'b', 'Good', 'Bad']\n",
      "['Good', 'Bad']\n"
     ]
    }
   ],
   "source": [
    "# add two list in Sequencially\n",
    "\n",
    "word1 =['a','b']\n",
    "word2 =['Good','Bad']\n",
    "\n",
    "word1.extend(word2)\n",
    "\n",
    "print(word1)\n",
    "print(word2)"
   ]
  },
  {
   "cell_type": "code",
   "execution_count": 8,
   "id": "3ee54c7d",
   "metadata": {},
   "outputs": [
    {
     "name": "stdout",
     "output_type": "stream",
     "text": [
      "['a', 'b', ['Good', 'Bad']]\n",
      "['Good', 'Bad']\n"
     ]
    }
   ],
   "source": [
    "# List in List\n",
    "\n",
    "word1 =['a','b']\n",
    "word2 =['Good','Bad']\n",
    "\n",
    "word1.append(word2)\n",
    "\n",
    "print(word1)\n",
    "print(word2)"
   ]
  },
  {
   "cell_type": "markdown",
   "id": "da9295da",
   "metadata": {},
   "source": [
    "# Pop , Delete and Remove"
   ]
  },
  {
   "cell_type": "code",
   "execution_count": 10,
   "id": "acf53e40",
   "metadata": {},
   "outputs": [
    {
     "name": "stdout",
     "output_type": "stream",
     "text": [
      "['a', 'b', 'c', 'd', 'e']\n"
     ]
    }
   ],
   "source": [
    "# POP method For - Delete\n",
    "\n",
    "word =['a','b','c','d','e','f']\n",
    "\n",
    "word.pop()\n",
    "# By default eta last element delete kore dibe.\n",
    "\n",
    "print(word)"
   ]
  },
  {
   "cell_type": "code",
   "execution_count": 11,
   "id": "8d8c8d0b",
   "metadata": {},
   "outputs": [
    {
     "name": "stdout",
     "output_type": "stream",
     "text": [
      "['b', 'c', 'd', 'e', 'f']\n"
     ]
    }
   ],
   "source": [
    "word =['a','b','c','d','e','f']\n",
    "\n",
    "word.pop(0)\n",
    "\n",
    "print(word)"
   ]
  },
  {
   "cell_type": "code",
   "execution_count": 12,
   "id": "5751b32e",
   "metadata": {},
   "outputs": [
    {
     "name": "stdout",
     "output_type": "stream",
     "text": [
      "['b', 'c', 'd', 'e', 'f']\n"
     ]
    }
   ],
   "source": [
    "word =['a','b','c','d','e','f']\n",
    "\n",
    "del word[0]\n",
    "\n",
    "print(word)"
   ]
  },
  {
   "cell_type": "code",
   "execution_count": 13,
   "id": "0d8a8385",
   "metadata": {},
   "outputs": [
    {
     "name": "stdout",
     "output_type": "stream",
     "text": [
      "['a', 'b', 'dog', 'e', 'f', 'g', 'h', 'i', 'j']\n"
     ]
    }
   ],
   "source": [
    "# If i have no idea Specifiq item where in my big list and I have to Delete that \n",
    "# In that time I have to Use this one.\n",
    "\n",
    "word =['a','b','cat','dog','e','f','g','h','i','j']\n",
    "\n",
    "word.remove('cat')\n",
    "\n",
    "print(word)"
   ]
  },
  {
   "cell_type": "code",
   "execution_count": 14,
   "id": "c2875376",
   "metadata": {},
   "outputs": [
    {
     "ename": "ValueError",
     "evalue": "list.remove(x): x not in list",
     "output_type": "error",
     "traceback": [
      "\u001b[1;31m---------------------------------------------------------------------------\u001b[0m",
      "\u001b[1;31mValueError\u001b[0m                                Traceback (most recent call last)",
      "\u001b[1;32mC:\\Users\\SHUVOM~1\\AppData\\Local\\Temp/ipykernel_24512/4182580292.py\u001b[0m in \u001b[0;36m<module>\u001b[1;34m\u001b[0m\n\u001b[0;32m      1\u001b[0m \u001b[0mword\u001b[0m \u001b[1;33m=\u001b[0m\u001b[1;33m[\u001b[0m\u001b[1;34m'a'\u001b[0m\u001b[1;33m,\u001b[0m\u001b[1;34m'b'\u001b[0m\u001b[1;33m,\u001b[0m\u001b[1;34m'cat'\u001b[0m\u001b[1;33m,\u001b[0m\u001b[1;34m'dog'\u001b[0m\u001b[1;33m,\u001b[0m\u001b[1;34m'e'\u001b[0m\u001b[1;33m,\u001b[0m\u001b[1;34m'f'\u001b[0m\u001b[1;33m,\u001b[0m\u001b[1;34m'g'\u001b[0m\u001b[1;33m,\u001b[0m\u001b[1;34m'h'\u001b[0m\u001b[1;33m,\u001b[0m\u001b[1;34m'i'\u001b[0m\u001b[1;33m,\u001b[0m\u001b[1;34m'j'\u001b[0m\u001b[1;33m]\u001b[0m\u001b[1;33m\u001b[0m\u001b[1;33m\u001b[0m\u001b[0m\n\u001b[0;32m      2\u001b[0m \u001b[1;33m\u001b[0m\u001b[0m\n\u001b[1;32m----> 3\u001b[1;33m \u001b[0mword\u001b[0m\u001b[1;33m.\u001b[0m\u001b[0mremove\u001b[0m\u001b[1;33m(\u001b[0m\u001b[1;34m'Lion'\u001b[0m\u001b[1;33m)\u001b[0m\u001b[1;33m\u001b[0m\u001b[1;33m\u001b[0m\u001b[0m\n\u001b[0m\u001b[0;32m      4\u001b[0m \u001b[1;33m\u001b[0m\u001b[0m\n\u001b[0;32m      5\u001b[0m \u001b[0mprint\u001b[0m\u001b[1;33m(\u001b[0m\u001b[0mword\u001b[0m\u001b[1;33m)\u001b[0m\u001b[1;33m\u001b[0m\u001b[1;33m\u001b[0m\u001b[0m\n",
      "\u001b[1;31mValueError\u001b[0m: list.remove(x): x not in list"
     ]
    }
   ],
   "source": [
    "word =['a','b','cat','dog','e','f','g','h','i','j']\n",
    "\n",
    "word.remove('Lion')\n",
    "\n",
    "print(word)"
   ]
  },
  {
   "cell_type": "code",
   "execution_count": 15,
   "id": "1cbbde13",
   "metadata": {},
   "outputs": [
    {
     "name": "stdout",
     "output_type": "stream",
     "text": [
      "['a', 'cat', 'dog', 'e', 'f', 'g', 'h', 'i', 'ball', 'j']\n"
     ]
    }
   ],
   "source": [
    "word =['a','ball','cat','dog','e','f','g','h','i','ball','j']\n",
    "\n",
    "word.remove('ball')        # it will revome first one.\n",
    "\n",
    "print(word)"
   ]
  },
  {
   "cell_type": "code",
   "execution_count": 26,
   "id": "086984fd",
   "metadata": {},
   "outputs": [
    {
     "name": "stdout",
     "output_type": "stream",
     "text": [
      "Ya ball is in word\n"
     ]
    }
   ],
   "source": [
    "# Check in list\n",
    "\n",
    "word =['a','ball','cat','dog','e','f','g','h','i','ball','j']\n",
    "\n",
    "if 'ball' in word :\n",
    "    print(\"Ya ball is in word\")\n",
    "else:\n",
    "    print(\"No ball is in word\")"
   ]
  },
  {
   "cell_type": "markdown",
   "id": "f8667cf0",
   "metadata": {},
   "source": [
    "# Count , Sort , Sorted Function , reverse , Clear , Copy"
   ]
  },
  {
   "cell_type": "code",
   "execution_count": 28,
   "id": "afb8ec81",
   "metadata": {},
   "outputs": [
    {
     "name": "stdout",
     "output_type": "stream",
     "text": [
      "2\n"
     ]
    }
   ],
   "source": [
    "word =['a','ball','cat','dog','e','f','g','h','i','ball','j']\n",
    "\n",
    "print(word.count('ball'))        \n"
   ]
  },
  {
   "cell_type": "code",
   "execution_count": 30,
   "id": "a14be93f",
   "metadata": {},
   "outputs": [
    {
     "name": "stdout",
     "output_type": "stream",
     "text": [
      "['a', 'ball', 'ball', 'cat', 'dog', 'e', 'f', 'g', 'h', 'i', 'j']\n"
     ]
    }
   ],
   "source": [
    "word.sort()\n",
    "\n",
    "print(word)"
   ]
  },
  {
   "cell_type": "code",
   "execution_count": 31,
   "id": "feb5bede",
   "metadata": {},
   "outputs": [
    {
     "name": "stdout",
     "output_type": "stream",
     "text": [
      "['a', 'ball', 'ball', 'cat', 'dog', 'e', 'f', 'g', 'h', 'i', 'j']\n"
     ]
    }
   ],
   "source": [
    "# Sorted Order list akare print korbe..\n",
    "\n",
    "print(sorted(word))     \n",
    "\n",
    "# eta Sort akare print korbe Sudhu e somoy er jonne Not for real list."
   ]
  },
  {
   "cell_type": "code",
   "execution_count": 32,
   "id": "ce666ea1",
   "metadata": {},
   "outputs": [],
   "source": [
    "# word.clear()\n",
    "\n",
    "# this one do clear whole list."
   ]
  },
  {
   "cell_type": "code",
   "execution_count": 35,
   "id": "23c537f5",
   "metadata": {},
   "outputs": [
    {
     "name": "stdout",
     "output_type": "stream",
     "text": [
      "['a', 'ball', 'cat', 'dog', 'e']\n"
     ]
    }
   ],
   "source": [
    "# COPY KORAR JONNO::: AS LIKE SAME LIST\n",
    "\n",
    "word =['a','ball','cat','dog','e']\n",
    "word_copy = word.copy()\n",
    "\n",
    "print(word_copy)"
   ]
  },
  {
   "cell_type": "code",
   "execution_count": 38,
   "id": "a1004c9e",
   "metadata": {},
   "outputs": [
    {
     "name": "stdout",
     "output_type": "stream",
     "text": [
      "False\n"
     ]
    }
   ],
   "source": [
    "word =['an','bal','at','dg','eag']\n",
    "words =['a','ball','cat','dog','e','f']\n",
    "\n",
    "print(word == words)"
   ]
  },
  {
   "cell_type": "code",
   "execution_count": 41,
   "id": "cdc99ad9",
   "metadata": {},
   "outputs": [
    {
     "name": "stdout",
     "output_type": "stream",
     "text": [
      "False\n"
     ]
    }
   ],
   "source": [
    "# Another way (Confused)\n",
    "\n",
    "word3 =['an','bal','at','dg','eag']\n",
    "words =['a','ball','cat','dog','e','f']\n",
    "\n",
    "\n",
    "print(word3 is words)"
   ]
  },
  {
   "cell_type": "markdown",
   "id": "b1e23d93",
   "metadata": {},
   "source": [
    "# Split and JOIN(Convert list to String)"
   ]
  },
  {
   "cell_type": "code",
   "execution_count": 42,
   "id": "375a8292",
   "metadata": {},
   "outputs": [
    {
     "name": "stdout",
     "output_type": "stream",
     "text": [
      "['Abdullah', '27']\n"
     ]
    }
   ],
   "source": [
    "user_info = 'Abdullah 27'.split()\n",
    "\n",
    "print(user_info)"
   ]
  },
  {
   "cell_type": "code",
   "execution_count": 44,
   "id": "9658bf3d",
   "metadata": {},
   "outputs": [
    {
     "name": "stdout",
     "output_type": "stream",
     "text": [
      "['Abdullah', '27']\n"
     ]
    }
   ],
   "source": [
    "user_info = 'Abdullah,27'.split(',')\n",
    "\n",
    "print(user_info)"
   ]
  },
  {
   "cell_type": "code",
   "execution_count": 46,
   "id": "e9dece8a",
   "metadata": {},
   "outputs": [
    {
     "name": "stdout",
     "output_type": "stream",
     "text": [
      "Enter your name and age : mamun,27\n",
      "mamun\n",
      "27\n"
     ]
    }
   ],
   "source": [
    "name , age = input(\"Enter your name and age : \").split(',')\n",
    "\n",
    "print(name)\n",
    "print(age)"
   ]
  },
  {
   "cell_type": "code",
   "execution_count": 47,
   "id": "8bb712bd",
   "metadata": {},
   "outputs": [
    {
     "name": "stdout",
     "output_type": "stream",
     "text": [
      "Shuvo,24\n"
     ]
    }
   ],
   "source": [
    "# JOIN \n",
    "\n",
    "# Convert list to String\n",
    "\n",
    "user_info = ['Shuvo','24']\n",
    "print(','.join(user_info))"
   ]
  },
  {
   "cell_type": "markdown",
   "id": "cc6235ff",
   "metadata": {},
   "source": [
    "# Loop and List "
   ]
  },
  {
   "cell_type": "code",
   "execution_count": 50,
   "id": "99df718d",
   "metadata": {},
   "outputs": [
    {
     "name": "stdout",
     "output_type": "stream",
     "text": [
      "ab\n",
      "bc\n",
      "cd\n",
      "de\n",
      "ef\n"
     ]
    }
   ],
   "source": [
    "x = ['ab','bc','cd','de','ef']\n",
    "\n",
    "for i in x:\n",
    "    print(i)"
   ]
  },
  {
   "cell_type": "code",
   "execution_count": 51,
   "id": "3f53c95e",
   "metadata": {},
   "outputs": [
    {
     "name": "stdout",
     "output_type": "stream",
     "text": [
      "1\n",
      "2\n",
      "3\n",
      "4\n",
      "5\n",
      "6\n",
      "7\n",
      "8\n",
      "9\n"
     ]
    }
   ],
   "source": [
    "matrix = [[1,2,3],[4,5,6],[7,8,9]]\n",
    "\n",
    "for x in matrix:\n",
    "    for y in x:\n",
    "        \n",
    "        print(y)"
   ]
  },
  {
   "cell_type": "code",
   "execution_count": 52,
   "id": "3f222eba",
   "metadata": {},
   "outputs": [
    {
     "name": "stdout",
     "output_type": "stream",
     "text": [
      "2\n"
     ]
    }
   ],
   "source": [
    "# Select position for metrix\n",
    "\n",
    "matrix = [[1,2,3],[4,5,6],[7,8,9]]\n",
    "\n",
    "print(matrix[0][1])"
   ]
  },
  {
   "cell_type": "code",
   "execution_count": 53,
   "id": "02a4f311",
   "metadata": {},
   "outputs": [
    {
     "name": "stdout",
     "output_type": "stream",
     "text": [
      "[1, 2, 3, 4, 5, 6, 7, 8, 9, 10]\n"
     ]
    }
   ],
   "source": [
    "# Generate a list with a range function \n",
    "\n",
    "num = list(range(1,11))\n",
    "print(num)"
   ]
  },
  {
   "cell_type": "code",
   "execution_count": 54,
   "id": "2e011cf0",
   "metadata": {},
   "outputs": [
    {
     "name": "stdout",
     "output_type": "stream",
     "text": [
      "10\n",
      "[1, 2, 3, 4, 5, 6, 7, 8, 9]\n"
     ]
    }
   ],
   "source": [
    "num = list(range(1,11))\n",
    "\n",
    "pop_item = num.pop()\n",
    "\n",
    "print(pop_item)    # here print will be which item is pop\n",
    "print(num)         # After pop the element new list \n"
   ]
  },
  {
   "cell_type": "code",
   "execution_count": 55,
   "id": "331bcf4b",
   "metadata": {},
   "outputs": [
    {
     "name": "stdout",
     "output_type": "stream",
     "text": [
      "0\n"
     ]
    }
   ],
   "source": [
    "num = list(range(1,11))\n",
    "\n",
    "print(num.index(1))    \n",
    "\n",
    "# it shows what is 1st index element."
   ]
  },
  {
   "cell_type": "code",
   "execution_count": 56,
   "id": "3d2af8c1",
   "metadata": {},
   "outputs": [
    {
     "name": "stdout",
     "output_type": "stream",
     "text": [
      "[-1, -2, -3, -4, -5, -6, -7, -8, -9, -10]\n"
     ]
    }
   ],
   "source": [
    "num = [1, 2, 3, 4, 5, 6, 7, 8, 9, 10]\n",
    "\n",
    "def negative_list(L):\n",
    "    negative = []\n",
    "    \n",
    "    for i in L:\n",
    "        negative.append(-i)\n",
    "    return negative\n",
    "\n",
    "print(negative_list(num))"
   ]
  },
  {
   "cell_type": "code",
   "execution_count": 58,
   "id": "08977321",
   "metadata": {},
   "outputs": [
    {
     "name": "stdout",
     "output_type": "stream",
     "text": [
      "[-10, -20, -30, -40, -50, -60, -70, -80, -90, -100]\n"
     ]
    }
   ],
   "source": [
    "num = [10, 20, 30, 40, 50, 60, 70, 80, 90, 100]\n",
    "\n",
    "def negative_list(num):\n",
    "    negative = []\n",
    "    \n",
    "    for i in num:\n",
    "        negative.append(-i)\n",
    "    return negative\n",
    "\n",
    "print(negative_list(num))"
   ]
  },
  {
   "cell_type": "code",
   "execution_count": 59,
   "id": "12e71d3f",
   "metadata": {},
   "outputs": [
    {
     "name": "stdout",
     "output_type": "stream",
     "text": [
      "[1, 4, 9, 16]\n"
     ]
    }
   ],
   "source": [
    "# Ex -- 1\n",
    "\n",
    "# Num=[1,2,3,4]         output = [1,4,9,16]\n",
    "\n",
    "numb = [1,2,3,4]\n",
    "\n",
    "def sqr_list(numb):\n",
    "    sqr = []\n",
    "    \n",
    "    for i in numb:\n",
    "        sqr.append(i*i)\n",
    "    return sqr\n",
    "\n",
    "print(sqr_list(numb))"
   ]
  },
  {
   "cell_type": "code",
   "execution_count": 64,
   "id": "0d2cf321",
   "metadata": {},
   "outputs": [
    {
     "ename": "TypeError",
     "evalue": "'int' object is not subscriptable",
     "output_type": "error",
     "traceback": [
      "\u001b[1;31m---------------------------------------------------------------------------\u001b[0m",
      "\u001b[1;31mTypeError\u001b[0m                                 Traceback (most recent call last)",
      "\u001b[1;32mC:\\Users\\SHUVOM~1\\AppData\\Local\\Temp/ipykernel_24512/3279923830.py\u001b[0m in \u001b[0;36m<module>\u001b[1;34m\u001b[0m\n\u001b[0;32m     12\u001b[0m     \u001b[1;32mreturn\u001b[0m \u001b[0mreverse\u001b[0m\u001b[1;33m\u001b[0m\u001b[1;33m\u001b[0m\u001b[0m\n\u001b[0;32m     13\u001b[0m \u001b[1;33m\u001b[0m\u001b[0m\n\u001b[1;32m---> 14\u001b[1;33m \u001b[0mprint\u001b[0m\u001b[1;33m(\u001b[0m\u001b[0mreverse_list\u001b[0m\u001b[1;33m(\u001b[0m\u001b[0mn\u001b[0m\u001b[1;33m)\u001b[0m\u001b[1;33m)\u001b[0m\u001b[1;33m\u001b[0m\u001b[1;33m\u001b[0m\u001b[0m\n\u001b[0m",
      "\u001b[1;32mC:\\Users\\SHUVOM~1\\AppData\\Local\\Temp/ipykernel_24512/3279923830.py\u001b[0m in \u001b[0;36mreverse_list\u001b[1;34m(n)\u001b[0m\n\u001b[0;32m      9\u001b[0m \u001b[1;33m\u001b[0m\u001b[0m\n\u001b[0;32m     10\u001b[0m     \u001b[1;32mfor\u001b[0m \u001b[0mi\u001b[0m \u001b[1;32min\u001b[0m \u001b[0mn\u001b[0m\u001b[1;33m:\u001b[0m\u001b[1;33m\u001b[0m\u001b[1;33m\u001b[0m\u001b[0m\n\u001b[1;32m---> 11\u001b[1;33m         \u001b[0mreverse\u001b[0m\u001b[1;33m.\u001b[0m\u001b[0mappend\u001b[0m\u001b[1;33m(\u001b[0m\u001b[0mi\u001b[0m\u001b[1;33m[\u001b[0m\u001b[1;33m:\u001b[0m\u001b[1;33m:\u001b[0m\u001b[1;33m-\u001b[0m\u001b[1;36m1\u001b[0m\u001b[1;33m]\u001b[0m\u001b[1;33m)\u001b[0m\u001b[1;33m\u001b[0m\u001b[1;33m\u001b[0m\u001b[0m\n\u001b[0m\u001b[0;32m     12\u001b[0m     \u001b[1;32mreturn\u001b[0m \u001b[0mreverse\u001b[0m\u001b[1;33m\u001b[0m\u001b[1;33m\u001b[0m\u001b[0m\n\u001b[0;32m     13\u001b[0m \u001b[1;33m\u001b[0m\u001b[0m\n",
      "\u001b[1;31mTypeError\u001b[0m: 'int' object is not subscriptable"
     ]
    }
   ],
   "source": [
    "# Ex -- 2\n",
    "\n",
    "# n=[1,2,3,4]    Output = [4,3,2,1]\n",
    "\n",
    "\n",
    "\n",
    "n = [1,2,3,4]\n",
    "\n",
    "def reverse_list(n):\n",
    "    reverse = []\n",
    "    \n",
    "    for i in n:\n",
    "        reverse.append(i[::-1])\n",
    "    return reverse\n",
    "\n",
    "print(reverse_list(n))"
   ]
  },
  {
   "cell_type": "code",
   "execution_count": 67,
   "id": "c3486420",
   "metadata": {},
   "outputs": [
    {
     "name": "stdout",
     "output_type": "stream",
     "text": [
      "[4, 3, 2, 1]\n"
     ]
    }
   ],
   "source": [
    "n = [1,2,3,4]\n",
    "\n",
    "def reverse_list(n):\n",
    "    n.reverse()\n",
    "    return n\n",
    "\n",
    "print(reverse_list(n))"
   ]
  },
  {
   "cell_type": "code",
   "execution_count": 68,
   "id": "6bb8547c",
   "metadata": {},
   "outputs": [
    {
     "name": "stdout",
     "output_type": "stream",
     "text": [
      "[4, 3, 2, 1]\n"
     ]
    }
   ],
   "source": [
    "n = [1,2,3,4]\n",
    "\n",
    "def reverse_list(n):\n",
    "    return n[::-1]\n",
    "\n",
    "print(reverse_list(n))\n"
   ]
  },
  {
   "cell_type": "code",
   "execution_count": 80,
   "id": "627292e4",
   "metadata": {},
   "outputs": [
    {
     "name": "stdout",
     "output_type": "stream",
     "text": [
      "[4, 3, 2, 1]\n"
     ]
    }
   ],
   "source": [
    "# I am Confused \n",
    "\n",
    "def reverse_list(n):\n",
    "    r_list =[]\n",
    "    for i in range(len(n)):\n",
    "        popped_item = n.pop()\n",
    "        r_list.append(popped_item)\n",
    "    return r_list\n",
    "\n",
    "n = [1,2,3,4]\n",
    "print(reverse_list(n))"
   ]
  },
  {
   "cell_type": "code",
   "execution_count": 84,
   "id": "7568e97a",
   "metadata": {},
   "outputs": [
    {
     "name": "stdout",
     "output_type": "stream",
     "text": [
      "['cba', 'fed', 'ihg']\n"
     ]
    }
   ],
   "source": [
    "\n",
    "\n",
    "def reverse_list(l):\n",
    "    elements= []\n",
    "    \n",
    "    for i in l:\n",
    "        elements.append(i[::-1])\n",
    "    return elements\n",
    "\n",
    "word = ['abc','def','ghi']\n",
    "\n",
    "print(reverse_list(word))"
   ]
  },
  {
   "cell_type": "code",
   "execution_count": null,
   "id": "6409816f",
   "metadata": {},
   "outputs": [],
   "source": []
  }
 ],
 "metadata": {
  "kernelspec": {
   "display_name": "Python 3 (ipykernel)",
   "language": "python",
   "name": "python3"
  },
  "language_info": {
   "codemirror_mode": {
    "name": "ipython",
    "version": 3
   },
   "file_extension": ".py",
   "mimetype": "text/x-python",
   "name": "python",
   "nbconvert_exporter": "python",
   "pygments_lexer": "ipython3",
   "version": "3.8.12"
  }
 },
 "nbformat": 4,
 "nbformat_minor": 5
}
