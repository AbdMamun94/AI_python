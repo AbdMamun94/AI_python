{
 "cells": [
  {
   "cell_type": "code",
   "execution_count": 6,
   "id": "a149128e",
   "metadata": {},
   "outputs": [
    {
     "name": "stdout",
     "output_type": "stream",
     "text": [
      "9\n"
     ]
    }
   ],
   "source": [
    "def add_two_num(a,b):\n",
    "    return a+b\n",
    "\n",
    "total= add_two_num(4,5)\n",
    "print(total)"
   ]
  },
  {
   "cell_type": "code",
   "execution_count": 8,
   "id": "e9103734",
   "metadata": {},
   "outputs": [
    {
     "name": "stdout",
     "output_type": "stream",
     "text": [
      "9\n"
     ]
    }
   ],
   "source": [
    "def add_two_num(a,b):\n",
    "    return a+b\n",
    "print(add_two_num(5,4))"
   ]
  },
  {
   "cell_type": "code",
   "execution_count": 11,
   "id": "90793b3a",
   "metadata": {},
   "outputs": [
    {
     "name": "stdout",
     "output_type": "stream",
     "text": [
      "enter first num:5\n",
      "enter second num:5\n",
      "10\n"
     ]
    }
   ],
   "source": [
    "def add_two(num1,num2):\n",
    "    return num1+num2\n",
    "\n",
    "num1 = int(input(\"enter first num:\"))   # num2 , num1 er place e onno variable o possible.\n",
    "num2 = int(input(\"enter second num:\"))\n",
    "\n",
    "total = add_two(num1,num2)\n",
    "\n",
    "print(total)"
   ]
  },
  {
   "cell_type": "code",
   "execution_count": 25,
   "id": "95298647",
   "metadata": {},
   "outputs": [
    {
     "name": "stdout",
     "output_type": "stream",
     "text": [
      "enter first name:  ghj\n",
      "enter second name:ghjk\n",
      "ghjghjk\n"
     ]
    }
   ],
   "source": [
    "def add_two(first_name,last_name) :\n",
    "    return first_name  + last_name\n",
    "\n",
    "first_name = input(\"enter first name:  \")   # num2 , num1 er place e onno variable o possible.\n",
    "last_name = input(\"enter second name:\")\n",
    "\n",
    "total = add_two(first_name ,last_name)\n",
    "\n",
    "print(total)"
   ]
  },
  {
   "cell_type": "markdown",
   "id": "63779447",
   "metadata": {},
   "source": [
    "# Print vs Return"
   ]
  },
  {
   "cell_type": "code",
   "execution_count": 26,
   "id": "28c5986a",
   "metadata": {},
   "outputs": [
    {
     "data": {
      "text/plain": [
       "15"
      ]
     },
     "execution_count": 26,
     "metadata": {},
     "output_type": "execute_result"
    }
   ],
   "source": [
    "# print value print kore\n",
    "# return value store kore.\n",
    "\n",
    "def add_num(a,b,c):\n",
    "    return (a+b+c)\n",
    "add_num(5,5,5)"
   ]
  },
  {
   "cell_type": "code",
   "execution_count": 27,
   "id": "11e64b24",
   "metadata": {},
   "outputs": [
    {
     "name": "stdout",
     "output_type": "stream",
     "text": [
      "15\n"
     ]
    }
   ],
   "source": [
    "def add_num(a,b,c):\n",
    "    print (a+b+c)    # its working but this is not way to write code\n",
    "add_num(5,5,5)"
   ]
  },
  {
   "cell_type": "code",
   "execution_count": 28,
   "id": "8034d5fa",
   "metadata": {},
   "outputs": [
    {
     "name": "stdout",
     "output_type": "stream",
     "text": [
      "Enter your name :Shuvo\n",
      "o\n"
     ]
    }
   ],
   "source": [
    "def last_char(name):\n",
    "    return name[-1]\n",
    "\n",
    "user = input(\"Enter your name :\")\n",
    "print(last_char(user))\n"
   ]
  },
  {
   "cell_type": "code",
   "execution_count": 36,
   "id": "41ce1d20",
   "metadata": {},
   "outputs": [
    {
     "name": "stdout",
     "output_type": "stream",
     "text": [
      "odd\n"
     ]
    }
   ],
   "source": [
    "def odd_even(num):\n",
    "    if num%2 == 0:\n",
    "        return \"even\"\n",
    "    else:\n",
    "        return \"odd\"\n",
    "    \n",
    "print(odd_even(2))"
   ]
  },
  {
   "cell_type": "code",
   "execution_count": 37,
   "id": "30ad778d",
   "metadata": {},
   "outputs": [
    {
     "name": "stdout",
     "output_type": "stream",
     "text": [
      "even\n"
     ]
    }
   ],
   "source": [
    "# Another way\n",
    "\n",
    "def odd_even(num):\n",
    "    if num%2 == 0:\n",
    "        return \"even\"\n",
    "    \n",
    "    return \"odd\"\n",
    "    \n",
    "print(odd_even(2))"
   ]
  },
  {
   "cell_type": "code",
   "execution_count": 38,
   "id": "54cdef95",
   "metadata": {},
   "outputs": [
    {
     "name": "stdout",
     "output_type": "stream",
     "text": [
      "True\n"
     ]
    }
   ],
   "source": [
    "def Is_even(num):       # num =peramiter\n",
    "    if num%2 == 0:\n",
    "        return True\n",
    "    else:\n",
    "        return False\n",
    "    \n",
    "print(Is_even(2))     # 2 = Argument"
   ]
  },
  {
   "cell_type": "code",
   "execution_count": 39,
   "id": "8775095c",
   "metadata": {},
   "outputs": [
    {
     "name": "stdout",
     "output_type": "stream",
     "text": [
      "dekhi ki hoy\n"
     ]
    }
   ],
   "source": [
    "def n():\n",
    "    return \"dekhi ki hoy\"\n",
    "\n",
    "print(n())"
   ]
  },
  {
   "cell_type": "code",
   "execution_count": 40,
   "id": "f52ecb1d",
   "metadata": {},
   "outputs": [
    {
     "name": "stdout",
     "output_type": "stream",
     "text": [
      "num2 is gratter\n"
     ]
    }
   ],
   "source": [
    "def greatter(num1,num2):\n",
    "    if num1 < num2:\n",
    "        return \"num2 is gratter\"\n",
    "    else:\n",
    "        return \"num1 is gratter\"\n",
    "    \n",
    "print(greatter(5,7))"
   ]
  },
  {
   "cell_type": "code",
   "execution_count": 45,
   "id": "df3abdaf",
   "metadata": {},
   "outputs": [
    {
     "name": "stdout",
     "output_type": "stream",
     "text": [
      "enter first num1:7\n",
      "enter second num2 :1\n",
      "num1 is greater\n"
     ]
    }
   ],
   "source": [
    "def greater(num1,num2):\n",
    "    if num1 < num2:\n",
    "        return \"num2 is greater\"\n",
    "    else:\n",
    "        return \"num1 is greater\"\n",
    "num1 = int(input(\"enter first num1:\"))\n",
    "num2 = int(input(\"enter second num2 :\"))\n",
    "    \n",
    "print(greater(num1,num2))\n",
    "\n",
    "# print(f\"{greater(num1,num2)}is greater.\")"
   ]
  },
  {
   "cell_type": "code",
   "execution_count": 48,
   "id": "8421ba70",
   "metadata": {},
   "outputs": [
    {
     "name": "stdout",
     "output_type": "stream",
     "text": [
      "enter first num1:3\n",
      "enter second num2 :2\n",
      "enter second num3 :1\n",
      "num1 is greatest\n"
     ]
    }
   ],
   "source": [
    "def greatest(num1,num2,num3):\n",
    "    if num1 > num2:\n",
    "        return \"num1 is greatest\"\n",
    "    elif num2 > num3:\n",
    "        return \"num2 is greatest\"\n",
    "    else:\n",
    "        return \"num3 is greatest\"\n",
    "num1 = int(input(\"enter first num1:\"))\n",
    "num2 = int(input(\"enter second num2 :\"))\n",
    "num3 = int(input(\"enter second num3 :\"))\n",
    "    \n",
    "print(greatest(num1,num2,num3))\n"
   ]
  },
  {
   "cell_type": "markdown",
   "id": "e9f6eccf",
   "metadata": {},
   "source": [
    "# Function inside function "
   ]
  },
  {
   "cell_type": "code",
   "execution_count": 52,
   "id": "6dc83883",
   "metadata": {},
   "outputs": [],
   "source": [
    "# def new_greatest(a,b,c):\n",
    "#     bigger = greater(a,b)\n",
    "#     return greater(bigger, c)\n",
    "   \n",
    "# a = int(input(\"enter first a:\"))\n",
    "# b = int(input(\"enter second b :\"))\n",
    "# c = int(input(\"enter second c :\"))\n",
    "    \n",
    "# print(new_greatest(a,b,c))\n"
   ]
  },
  {
   "cell_type": "code",
   "execution_count": 54,
   "id": "69dd3ca9",
   "metadata": {},
   "outputs": [
    {
     "name": "stdout",
     "output_type": "stream",
     "text": [
      " Write a word:level\n",
      "ya its palendrom\n"
     ]
    }
   ],
   "source": [
    "# palendrom Function = level\n",
    "\n",
    "def is_palendrom(word):\n",
    "    reverse_word = word[::-1]\n",
    "    if word == reverse_word:\n",
    "        return \"ya its palendrom\"\n",
    "    \n",
    "    else:\n",
    "        return \" No its not palendrom\"\n",
    "    \n",
    "word = input(\" Write a word:\")\n",
    "\n",
    "print(is_palendrom(word))"
   ]
  },
  {
   "cell_type": "code",
   "execution_count": 55,
   "id": "0d7b1c0e",
   "metadata": {},
   "outputs": [
    {
     "name": "stdout",
     "output_type": "stream",
     "text": [
      "True\n",
      "False\n"
     ]
    }
   ],
   "source": [
    "def is_palindrom(word):\n",
    "    return word == word[::-1]\n",
    "\n",
    "print(is_palindrom(\"naman\"))\n",
    "print(is_palindrom(\"horse\"))"
   ]
  },
  {
   "cell_type": "code",
   "execution_count": 57,
   "id": "735b0ea7",
   "metadata": {},
   "outputs": [
    {
     "name": "stdout",
     "output_type": "stream",
     "text": [
      "0 1 1 2 3 5 8 13 21 34 "
     ]
    }
   ],
   "source": [
    "# fibonacci Series - 0 1 1 2 3 5 8 13 21 34\n",
    "\n",
    "def fib_seq (n):\n",
    "    a = 0\n",
    "    b = 1\n",
    "    if n == 1:\n",
    "        print(a)\n",
    "    elif n == 2:\n",
    "        print(a,b)\n",
    "    else:\n",
    "        print(a,b,end=\" \")\n",
    "        \n",
    "        for i in range (n-2):\n",
    "            c = a+b      # 0+1=1 , 1+1=2 , 1+2=3 , 2+3=5 ,\n",
    "            a = b        # 1 , 1 , 2 , 3\n",
    "            b = c        # 1 ,2 , 3 , 5\n",
    "            print(b,end =\" \") # 1 , 2 , 3 , 5 ,.....\n",
    "fib_seq (10)"
   ]
  },
  {
   "cell_type": "markdown",
   "id": "1ec18ae6",
   "metadata": {},
   "source": [
    "# Variable Scope"
   ]
  },
  {
   "cell_type": "code",
   "execution_count": 58,
   "id": "431e1c86",
   "metadata": {},
   "outputs": [
    {
     "ename": "NameError",
     "evalue": "name 'x' is not defined",
     "output_type": "error",
     "traceback": [
      "\u001b[1;31m---------------------------------------------------------------------------\u001b[0m",
      "\u001b[1;31mNameError\u001b[0m                                 Traceback (most recent call last)",
      "\u001b[1;32mC:\\Users\\SHUVOM~1\\AppData\\Local\\Temp/ipykernel_29924/2490536051.py\u001b[0m in \u001b[0;36m<module>\u001b[1;34m\u001b[0m\n\u001b[0;32m      3\u001b[0m     \u001b[1;32mreturn\u001b[0m \u001b[0mx\u001b[0m\u001b[1;33m\u001b[0m\u001b[1;33m\u001b[0m\u001b[0m\n\u001b[0;32m      4\u001b[0m \u001b[1;33m\u001b[0m\u001b[0m\n\u001b[1;32m----> 5\u001b[1;33m \u001b[0mprint\u001b[0m\u001b[1;33m(\u001b[0m\u001b[0mx\u001b[0m\u001b[1;33m)\u001b[0m\u001b[1;33m\u001b[0m\u001b[1;33m\u001b[0m\u001b[0m\n\u001b[0m",
      "\u001b[1;31mNameError\u001b[0m: name 'x' is not defined"
     ]
    }
   ],
   "source": [
    "def func():\n",
    "    x = 7\n",
    "    return x\n",
    "\n",
    "print(x)\n",
    "\n",
    "# its not possible x=7 return x porjonto e sesh"
   ]
  },
  {
   "cell_type": "code",
   "execution_count": 59,
   "id": "73f0d8f9",
   "metadata": {},
   "outputs": [
    {
     "name": "stdout",
     "output_type": "stream",
     "text": [
      "7\n",
      "5\n"
     ]
    }
   ],
   "source": [
    "x = 5 \n",
    "\n",
    "def func():\n",
    "    x = 7\n",
    "    return x\n",
    "\n",
    "print(func())\n",
    "print(x)"
   ]
  },
  {
   "cell_type": "code",
   "execution_count": 60,
   "id": "b3f304c0",
   "metadata": {},
   "outputs": [
    {
     "name": "stdout",
     "output_type": "stream",
     "text": [
      "7\n",
      "7\n"
     ]
    }
   ],
   "source": [
    "# x er value change 5 to 7\n",
    "\n",
    "x = 5 \n",
    "\n",
    "def func():\n",
    "    global x\n",
    "    x = 7\n",
    "    return x\n",
    "\n",
    "print(func())\n",
    "print(x)"
   ]
  },
  {
   "cell_type": "code",
   "execution_count": 61,
   "id": "92a6838d",
   "metadata": {},
   "outputs": [
    {
     "name": "stdout",
     "output_type": "stream",
     "text": [
      "5\n",
      "7\n",
      "7\n"
     ]
    }
   ],
   "source": [
    "x = 5 \n",
    "\n",
    "def func():\n",
    "    global x\n",
    "    x = 7\n",
    "    return x\n",
    "\n",
    "\n",
    "print(x)\n",
    "print(func())\n",
    "print(x)"
   ]
  },
  {
   "cell_type": "code",
   "execution_count": null,
   "id": "da73b6ee",
   "metadata": {},
   "outputs": [],
   "source": []
  }
 ],
 "metadata": {
  "kernelspec": {
   "display_name": "Python 3 (ipykernel)",
   "language": "python",
   "name": "python3"
  },
  "language_info": {
   "codemirror_mode": {
    "name": "ipython",
    "version": 3
   },
   "file_extension": ".py",
   "mimetype": "text/x-python",
   "name": "python",
   "nbconvert_exporter": "python",
   "pygments_lexer": "ipython3",
   "version": "3.8.12"
  }
 },
 "nbformat": 4,
 "nbformat_minor": 5
}
