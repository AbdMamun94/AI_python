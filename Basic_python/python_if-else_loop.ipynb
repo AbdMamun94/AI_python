{
 "cells": [
  {
   "cell_type": "code",
   "execution_count": 1,
   "id": "995a0fac",
   "metadata": {},
   "outputs": [
    {
     "name": "stdout",
     "output_type": "stream",
     "text": [
      "Input Email :Amma@gmail.com\n",
      "Input Password1234\n",
      "Welcome\n"
     ]
    }
   ],
   "source": [
    "# Amma@gmail.com\n",
    "# 1234\n",
    "\n",
    "email = input(\"Input Email :\")\n",
    "\n",
    "if '@' in email:\n",
    "    password = input(\"Input Password\")\n",
    "\n",
    "    if email == \"Amma@gmail.com\" and password == \"1234\":\n",
    "        print(\"Welcome\")\n",
    "        \n",
    "    elif email == \"Amma@gmail.com\" and password != \"1234\":\n",
    "        print(\"Password Incorrect\")\n",
    "        \n",
    "        password = input(\"Wrong password :->\")\n",
    "        \n",
    "        if password == \"1234\":\n",
    "             print(\"Finally correct\")\n",
    "                \n",
    "        else:\n",
    "            print(\"Still incorrect\")\n",
    "            if '@' in email:\n",
    "                password = input(\"Warning Again Wrong ,Input Password :->\")\n",
    "            else:\n",
    "                print(\"Wrong Formet\")\n",
    "            print(\"you are blocked\")\n",
    "        \n",
    "    elif email != \"Amma@gmail.com\" and password == \"1234\":\n",
    "        print(\"email Incorrect\")\n",
    "        \n",
    "        email = input(\"Wrong email :-->\")\n",
    "        \n",
    "        if email == \"Amma@gmail.com\":\n",
    "            print(\"Finally correct\")\n",
    "        \n",
    "        else:\n",
    "            print(\"Still incorrect\")\n",
    "            email = input(\"Warning Again Wrong, Input email :-->\")\n",
    "            again_email = input(\"Input Email :\")\n",
    "            print(\"You are blocked\")\n",
    "            \n",
    "    else:\n",
    "        print(\"Incorrect credentials\")\n",
    "else:\n",
    "    print(\"Wrong Formet\")"
   ]
  },
  {
   "cell_type": "code",
   "execution_count": 2,
   "id": "12a48acb",
   "metadata": {},
   "outputs": [
    {
     "name": "stdout",
     "output_type": "stream",
     "text": [
      "Input 1 to 100 number :78\n",
      "too high\n"
     ]
    }
   ],
   "source": [
    "# Guessing game\n",
    "\n",
    "Winning_Num = 9\n",
    "\n",
    "user =int(input(\"Input 1 to 100 number :\"))\n",
    "\n",
    "if Winning_Num == user :\n",
    "    print(\"You win\")\n",
    "    \n",
    "else:\n",
    "    if Winning_Num > user :\n",
    "        print(\"too low\")\n",
    "    \n",
    "    else:\n",
    "         print(\"too high\")        "
   ]
  },
  {
   "cell_type": "code",
   "execution_count": 30,
   "id": "650d0c0c",
   "metadata": {},
   "outputs": [
    {
     "name": "stdout",
     "output_type": "stream",
     "text": [
      "Enter name :asdf\n",
      "Enter age :90\n",
      "you can watch coco movie\n"
     ]
    }
   ],
   "source": [
    "# Exercise Watch Coco- Harsha\n",
    "\n",
    "name = input(\"Enter name :\")\n",
    "age = int(input(\"Enter age :\")) \n",
    "\n",
    "if (name[0] == 'a' or name[0] == 'A') and age >= 10:\n",
    "\n",
    "#if  age >= 10 and (name[0] == 'a' or name[0] == 'A'):\n",
    "    \n",
    "    print(\"you can watch coco movie\")\n",
    "    \n",
    "else:\n",
    "    print(\"Sorry, you can't allow\")\n"
   ]
  },
  {
   "cell_type": "code",
   "execution_count": 3,
   "id": "5f845b7f",
   "metadata": {},
   "outputs": [
    {
     "name": "stdout",
     "output_type": "stream",
     "text": [
      "yes\n"
     ]
    }
   ],
   "source": [
    "Name = \"Shuvo\"\n",
    "\n",
    "if 'S' in \"Shuvo\" :\n",
    "    print(\"yes\")\n",
    "    \n",
    "else:\n",
    "    Print(\"no\")"
   ]
  },
  {
   "cell_type": "code",
   "execution_count": null,
   "id": "3e07d088",
   "metadata": {},
   "outputs": [],
   "source": []
  }
 ],
 "metadata": {
  "kernelspec": {
   "display_name": "Python 3 (ipykernel)",
   "language": "python",
   "name": "python3"
  },
  "language_info": {
   "codemirror_mode": {
    "name": "ipython",
    "version": 3
   },
   "file_extension": ".py",
   "mimetype": "text/x-python",
   "name": "python",
   "nbconvert_exporter": "python",
   "pygments_lexer": "ipython3",
   "version": "3.8.12"
  }
 },
 "nbformat": 4,
 "nbformat_minor": 5
}
