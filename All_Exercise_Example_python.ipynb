{
 "cells": [
  {
   "cell_type": "code",
   "execution_count": 1,
   "id": "45557c4a",
   "metadata": {},
   "outputs": [
    {
     "name": "stdout",
     "output_type": "stream",
     "text": [
      "Enter User name:Shuvo\n",
      "5\n",
      "Enter one charecter for Count :s\n",
      "1\n"
     ]
    }
   ],
   "source": [
    "Input = input(\"Enter User name:\")\n",
    "\n",
    "length =len(Input)\n",
    "print(length)\n",
    "\n",
    "Again_input_for_count_character = input(\"Enter one charecter for Count :\")\n",
    "\n",
    "#print(Input.count (Again_input_character))  \n",
    "\n",
    "print(Input.lower().count(Again_input_for_count_character.lower()))     # case Sensetive thats why sob low kore nichi \n"
   ]
  },
  {
   "cell_type": "code",
   "execution_count": 2,
   "id": "4c1ea21b",
   "metadata": {},
   "outputs": [
    {
     "name": "stdout",
     "output_type": "stream",
     "text": [
      "Input Email :Amma@gmail.com\n",
      "Input Password1234\n",
      "Welcome\n"
     ]
    }
   ],
   "source": [
    "# Amma@gmail.com\n",
    "# 1234\n",
    "\n",
    "email = input(\"Input Email :->\")\n",
    "\n",
    "if '@' in email:\n",
    "    password = input(\"Input Password :->\")\n",
    "\n",
    "    if email == \"Amma@gmail.com\" and password == \"1234\":\n",
    "        print(\"Welcome\")\n",
    "        \n",
    "    elif email == \"Amma@gmail.com\" and password != \"1234\":\n",
    "        print(\"Password Incorrect\")\n",
    "        \n",
    "        password = input(\"Wrong password :->\")\n",
    "        \n",
    "        if password == \"1234\":\n",
    "             print(\"Finally correct\")\n",
    "                \n",
    "        else:\n",
    "            print(\"Still incorrect\")\n",
    "            if '@' in email:\n",
    "                password = input(\"Warning Again Wrong ,Input Password :->\")\n",
    "            else:\n",
    "                print(\"Wrong Formet\")\n",
    "            print(\"you are blocked\")\n",
    "        \n",
    "    elif email != \"Amma@gmail.com\" and password == \"1234\":\n",
    "        print(\"email Incorrect\")\n",
    "        \n",
    "        email = input(\"Wrong email :-->\")\n",
    "        \n",
    "        if email == \"Amma@gmail.com\":\n",
    "            print(\"Finally correct\")\n",
    "        \n",
    "        else:\n",
    "            print(\"Still incorrect\")\n",
    "            email = input(\"Warning Again Wrong, Input email :-->\")\n",
    "            again_email = input(\"Input Email:-> \")\n",
    "            print(\"You are blocked\")\n",
    "            \n",
    "    else:\n",
    "        print(\"Incorrect credentials\")\n",
    "else:\n",
    "    print(\"Wrong Formet\")"
   ]
  },
  {
   "cell_type": "code",
   "execution_count": 8,
   "id": "0a847af4",
   "metadata": {},
   "outputs": [
    {
     "name": "stdout",
     "output_type": "stream",
     "text": [
      "Input 1 to 100 number :7\n",
      "too low\n"
     ]
    }
   ],
   "source": [
    "# Guessing game\n",
    "\n",
    "Winning_Num = 9\n",
    "\n",
    "user =int(input(\"Input 1 to 100 number :\"))\n",
    "\n",
    "if Winning_Num == user :\n",
    "    print(\"You win\")\n",
    "    \n",
    "else:\n",
    "    if Winning_Num > user :\n",
    "        print(\"too low\")\n",
    "    \n",
    "    else:\n",
    "        \n",
    "        print(\"too high\")\n",
    "        again_input = input(\"Input 1 to 100 number :\")\n",
    "            "
   ]
  },
  {
   "cell_type": "code",
   "execution_count": 9,
   "id": "0b1e9e3d",
   "metadata": {},
   "outputs": [
    {
     "name": "stdout",
     "output_type": "stream",
     "text": [
      "Enter name :dfghjk\n",
      "Enter age :67\n",
      "Sorry, you can't allow\n"
     ]
    }
   ],
   "source": [
    "# Exercise Watch Coco- Harsha\n",
    "\n",
    "name = input(\"Enter name :\")\n",
    "age = int(input(\"Enter age :\")) \n",
    "\n",
    "if (name[0] == 'a' or name[0] == 'A') and age >= 10:\n",
    "\n",
    "#if  age >= 10 and (name[0] == 'a' or name[0] == 'A'):\n",
    "    \n",
    "    print(\"you can watch coco movie\")\n",
    "    \n",
    "else:\n",
    "    print(\"Sorry, you can't allow\")\n"
   ]
  },
  {
   "cell_type": "code",
   "execution_count": 10,
   "id": "141bda4e",
   "metadata": {},
   "outputs": [
    {
     "name": "stdout",
     "output_type": "stream",
     "text": [
      "guess num 1 to 100 :67\n",
      "too high\n",
      "guess num 1 to 100 :76\n",
      "too high\n",
      "guess num 1 to 100 :89\n",
      "too high\n",
      "guess num 1 to 100 :60\n",
      "too low \n",
      "guess num 1 to 100 :63\n",
      "too high\n",
      "guess num 1 to 100 :62\n",
      "you win, and you guess this num in 6 times\n"
     ]
    }
   ],
   "source": [
    "# With random Number\n",
    "\n",
    "import random\n",
    "w_n = random.randint(1,100)\n",
    "guess = 1\n",
    "game_over = False\n",
    "\n",
    "while True:\n",
    "    num = int(input(\"guess num 1 to 100 :\"))\n",
    "    if num == w_n:\n",
    "        print(f\"you win, and you guess this num in {guess} times\")\n",
    "        break\n",
    "        \n",
    "    else:\n",
    "        if num < w_n:\n",
    "            print(\"too low \")\n",
    "            \n",
    "        else :\n",
    "            print(\"too high\")\n",
    "            \n",
    "        guess +=1\n",
    "        continue\n",
    "        "
   ]
  },
  {
   "cell_type": "code",
   "execution_count": 11,
   "id": "852825a9",
   "metadata": {},
   "outputs": [
    {
     "name": "stdout",
     "output_type": "stream",
     "text": [
      "enter first num:6\n",
      "enter second num:7\n",
      "13\n"
     ]
    }
   ],
   "source": [
    "def add_two(num1,num2):\n",
    "    return num1+num2\n",
    "\n",
    "num1 = int(input(\"enter first num:\"))   # num2 , num1 er place e onno variable o possible.\n",
    "num2 = int(input(\"enter second num:\"))\n",
    "\n",
    "total = add_two(num1,num2)\n",
    "\n",
    "print(total)"
   ]
  },
  {
   "cell_type": "code",
   "execution_count": 12,
   "id": "9a9d3efe",
   "metadata": {},
   "outputs": [
    {
     "name": "stdout",
     "output_type": "stream",
     "text": [
      "even\n"
     ]
    }
   ],
   "source": [
    "def odd_even(num):\n",
    "    if num%2 == 0:\n",
    "        return \"even\"\n",
    "    else:\n",
    "        return \"odd\"\n",
    "    \n",
    "print(odd_even(2))"
   ]
  },
  {
   "cell_type": "code",
   "execution_count": 14,
   "id": "b659f23d",
   "metadata": {},
   "outputs": [
    {
     "name": "stdout",
     "output_type": "stream",
     "text": [
      "enter first num1:5\n",
      "enter second num2 :7\n",
      "num2 is greater\n"
     ]
    }
   ],
   "source": [
    "def greater(num1,num2):\n",
    "    if num1 < num2:\n",
    "        return \"num2 is greater\"\n",
    "    else:\n",
    "        return \"num1 is greater\"\n",
    "num1 = int(input(\"enter first num1:\"))\n",
    "num2 = int(input(\"enter second num2 :\"))\n",
    "    \n",
    "print(greater(num1,num2))\n",
    "\n",
    "# print(f\"{greater(num1,num2)}is greater.\")"
   ]
  },
  {
   "cell_type": "code",
   "execution_count": 15,
   "id": "463e3ba9",
   "metadata": {},
   "outputs": [
    {
     "name": "stdout",
     "output_type": "stream",
     "text": [
      "enter first num1:8\n",
      "enter second num2 :9\n",
      "enter second num3 :5\n",
      "num2 is greatest\n"
     ]
    }
   ],
   "source": [
    "def greatest(num1,num2,num3):\n",
    "    if num1 > num2:\n",
    "        return \"num1 is greatest\"\n",
    "    elif num2 > num3:\n",
    "        return \"num2 is greatest\"\n",
    "    else:\n",
    "        return \"num3 is greatest\"\n",
    "num1 = int(input(\"enter first num1:\"))\n",
    "num2 = int(input(\"enter second num2 :\"))\n",
    "num3 = int(input(\"enter second num3 :\"))\n",
    "    \n",
    "print(greatest(num1,num2,num3))\n"
   ]
  },
  {
   "cell_type": "code",
   "execution_count": 16,
   "id": "3d8d5711",
   "metadata": {},
   "outputs": [
    {
     "name": "stdout",
     "output_type": "stream",
     "text": [
      " Write a word:level\n",
      "Ya its palendrom\n"
     ]
    }
   ],
   "source": [
    "# palendrom Function = level\n",
    "\n",
    "def is_palendrom(word):\n",
    "    reverse_word = word[::-1]\n",
    "    if word == reverse_word:\n",
    "        return \"Ya its palendrom\"\n",
    "    \n",
    "    else:\n",
    "        return \" No its not palendrom\"\n",
    "    \n",
    "word = input(\" Write a word:\")\n",
    "\n",
    "print(is_palendrom(word))"
   ]
  },
  {
   "cell_type": "code",
   "execution_count": 17,
   "id": "aaa2207e",
   "metadata": {},
   "outputs": [
    {
     "name": "stdout",
     "output_type": "stream",
     "text": [
      "0 1 1 2 3 5 8 13 21 34 "
     ]
    }
   ],
   "source": [
    "# fibonacci Series - 0 1 1 2 3 5 8 13 21 34\n",
    "\n",
    "def fib_seq (n):\n",
    "    a = 0\n",
    "    b = 1\n",
    "    if n == 1:\n",
    "        print(a)\n",
    "    elif n == 2:\n",
    "        print(a,b)\n",
    "    else:\n",
    "        print(a,b,end=\" \")\n",
    "        \n",
    "        for i in range (n-2):\n",
    "            c = a+b      # 0+1=1 , 1+1=2 , 1+2=3 , 2+3=5 ,\n",
    "            a = b        # 1 , 1 , 2 , 3\n",
    "            b = c        # 1 ,2 , 3 , 5\n",
    "            print(b,end =\" \") # 1 , 2 , 3 , 5 ,.....\n",
    "fib_seq (10)"
   ]
  },
  {
   "cell_type": "code",
   "execution_count": 18,
   "id": "0ab67fdc",
   "metadata": {},
   "outputs": [
    {
     "name": "stdout",
     "output_type": "stream",
     "text": [
      "[-1, -2, -3, -4, -5, -6, -7, -8, -9, -10]\n"
     ]
    }
   ],
   "source": [
    "num = [1, 2, 3, 4, 5, 6, 7, 8, 9, 10]\n",
    "\n",
    "def negative_list(L):\n",
    "    negative = []\n",
    "    \n",
    "    for i in L:\n",
    "        negative.append(-i)\n",
    "    return negative\n",
    "\n",
    "print(negative_list(num))"
   ]
  },
  {
   "cell_type": "code",
   "execution_count": 19,
   "id": "afcb77d8",
   "metadata": {},
   "outputs": [
    {
     "name": "stdout",
     "output_type": "stream",
     "text": [
      "[1, 4, 9, 16]\n"
     ]
    }
   ],
   "source": [
    "# Num=[1,2,3,4]         output = [1,4,9,16]\n",
    "\n",
    "numb = [1,2,3,4]\n",
    "\n",
    "def sqr_list(numb):\n",
    "    sqr = []\n",
    "    \n",
    "    for i in numb:\n",
    "        sqr.append(i*i)\n",
    "    return sqr\n",
    "\n",
    "print(sqr_list(numb))"
   ]
  },
  {
   "cell_type": "code",
   "execution_count": 21,
   "id": "1970e0cf",
   "metadata": {},
   "outputs": [
    {
     "name": "stdout",
     "output_type": "stream",
     "text": [
      "[4, 3, 2, 1]\n"
     ]
    }
   ],
   "source": [
    "n = [1,2,3,4]\n",
    "\n",
    "def reverse_list(n):\n",
    "    n.reverse()\n",
    "    return n\n",
    "\n",
    "print(reverse_list(n))"
   ]
  },
  {
   "cell_type": "code",
   "execution_count": 22,
   "id": "f923fadc",
   "metadata": {},
   "outputs": [
    {
     "name": "stdout",
     "output_type": "stream",
     "text": [
      "[4, 3, 2, 1]\n"
     ]
    }
   ],
   "source": [
    "n = [1,2,3,4]\n",
    "\n",
    "def reverse_list(n):\n",
    "    return n[::-1]\n",
    "\n",
    "print(reverse_list(n))\n"
   ]
  },
  {
   "cell_type": "code",
   "execution_count": 23,
   "id": "80de2eba",
   "metadata": {},
   "outputs": [
    {
     "name": "stdout",
     "output_type": "stream",
     "text": [
      "['cba', 'fed', 'ihg']\n"
     ]
    }
   ],
   "source": [
    "def reverse_list(word):\n",
    "    elements= []\n",
    "    \n",
    "    for i in word:\n",
    "        elements.append(i[::-1])\n",
    "    return elements\n",
    "\n",
    "word = ['abc','def','ghi']\n",
    "\n",
    "print(reverse_list(word))\n"
   ]
  },
  {
   "cell_type": "code",
   "execution_count": 24,
   "id": "04fc6c8e",
   "metadata": {},
   "outputs": [
    {
     "name": "stdout",
     "output_type": "stream",
     "text": [
      "[[1, 3, 5, 7, 9], [2, 4, 6, 8]]\n"
     ]
    }
   ],
   "source": [
    "# Ex-4\n",
    "# n = [1,2,3,4,5,6,7,8,9]     Output = [[1,3,5,7,9],[2,4,6,8]]\n",
    "\n",
    "def filter_ever_odd(l):\n",
    "    odd_num =[]\n",
    "    even_num =[]\n",
    "    for i in l :\n",
    "        if i%2 == 0:\n",
    "            even_num.append(i)\n",
    "        else:\n",
    "            odd_num.append(i)\n",
    "    output =[odd_num,even_num]\n",
    "    return output\n",
    "\n",
    "n = [1,2,3,4,5,6,7,8,9]\n",
    "print(filter_ever_odd(n))"
   ]
  },
  {
   "cell_type": "code",
   "execution_count": 25,
   "id": "2af91354",
   "metadata": {},
   "outputs": [
    {
     "name": "stdout",
     "output_type": "stream",
     "text": [
      "(9, 20)\n"
     ]
    }
   ],
   "source": [
    "# Tuple \n",
    "\n",
    "\n",
    "def func(int1,int2):\n",
    "    add = int1+int2\n",
    "    multiply = int1*int2\n",
    "    return add,multiply\n",
    "\n",
    "print(func(4,5))"
   ]
  },
  {
   "cell_type": "code",
   "execution_count": null,
   "id": "dc266b41",
   "metadata": {},
   "outputs": [],
   "source": []
  }
 ],
 "metadata": {
  "kernelspec": {
   "display_name": "Python 3 (ipykernel)",
   "language": "python",
   "name": "python3"
  },
  "language_info": {
   "codemirror_mode": {
    "name": "ipython",
    "version": 3
   },
   "file_extension": ".py",
   "mimetype": "text/x-python",
   "name": "python",
   "nbconvert_exporter": "python",
   "pygments_lexer": "ipython3",
   "version": "3.8.12"
  }
 },
 "nbformat": 4,
 "nbformat_minor": 5
}
